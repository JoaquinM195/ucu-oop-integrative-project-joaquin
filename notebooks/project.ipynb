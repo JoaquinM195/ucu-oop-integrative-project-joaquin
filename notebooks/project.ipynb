{
 "cells": [
  {
   "attachments": {},
   "cell_type": "markdown",
   "id": "innocent-university",
   "metadata": {},
   "source": [
    "# Limpieza del dataset de bienes raíces\n",
    "\n",
    "Este es un conjunto de datos (dataset) reales que fue descargado usando técnicas de web scraping. El archivo contiene registros de **Fotocasa**, el cual es uno de los sitios más populares de bienes raíces en España. Contiene miles de datos de casas reales publicadas en la web www.fotocasa.com.\n",
    "\n",
    "El dataset fue descargado hace algunos años y en ningún caso se obtuvo beneficio económico de ello.\n",
    "\n",
    "Tu objetivo es extraer tanta información como sea posible con el conocimiento que tienes hasta ahora de ciencia de datos."
   ]
  },
  {
   "cell_type": "code",
   "id": "frank-heath",
   "metadata": {},
   "source": [
    "import pandas as pd\n",
    "import numpy as np"
   ],
   "outputs": [],
   "execution_count": null
  },
  {
   "cell_type": "markdown",
   "id": "5807eba1fce08a86",
   "metadata": {},
   "source": [
    "#### Ejercicio 00\n",
    "\n",
    "Lee el dataset data/real_estate.csv e intenta visualizar la tabla (★☆☆)"
   ]
  },
  {
   "cell_type": "code",
   "id": "82e7dea53f252c1c",
   "metadata": {},
   "source": [
    "# Este archivo CSV contiene puntos y comas en lugar de comas como separadores\n",
    "df = pd.read_csv('../data/real_estate.csv', sep=';')\n",
    "df"
   ],
   "outputs": [],
   "execution_count": null
  },
  {
   "cell_type": "markdown",
   "id": "9670bfd13cfca1e7",
   "metadata": {},
   "source": [
    "## Trabajando con un DataFrame"
   ]
  },
  {
   "attachments": {},
   "cell_type": "markdown",
   "id": "latin-guest",
   "metadata": {},
   "source": [
    "#### Ejercicio 01\n",
    "\n",
    "¿Cuál es la casa más cara del dataset? (★☆☆)\n",
    "\n",
    "Imprime la dirección y el precio de la casa seleccionada. Para visualizar el resultado utiliza un f-string. Por ejemplo:\n",
    "\n",
    "```py\n",
    "f'La casa más cara se encuentra en la dirección: {address} y su precio es {price} €'\n",
    "```"
   ]
  },
  {
   "cell_type": "code",
   "id": "developing-optimum",
   "metadata": {},
   "source": [
    "# TODO\n",
    "# Encontrar la fila con el precio mínimo\n",
    "fila_max = df.loc[df[\"price\"].idxmax()]\n",
    "\n",
    "# Extraer la dirección y el precio\n",
    "direccion = fila_max[\"address\"]\n",
    "precio = fila_max[\"price\"]\n",
    "\n",
    "# Retornar el resultado con f-string\n",
    "f\"La casa más cara se encuentra en la dirección: {direccion} y su precio es €{precio}\""
   ],
   "outputs": [],
   "execution_count": null
  },
  {
   "attachments": {},
   "cell_type": "markdown",
   "id": "lesser-cosmetic",
   "metadata": {},
   "source": [
    "#### Ejercicio 02\n",
    "\n",
    "¿Cuál es la casa más barata del dataset? (★☆☆)\n",
    "\n",
    "Imprime la dirección y el precio de la casa seleccionada utilizando f-string"
   ]
  },
  {
   "cell_type": "code",
   "id": "lovely-oasis",
   "metadata": {},
   "source": [
    "# TODO\n",
    "# Encontrar la fila con el precio mínimo\n",
    "fila_min = df.loc[df[\"price\"].idxmin()]\n",
    "\n",
    "# Extraer la dirección y el precio\n",
    "direccion = fila_min[\"address\"]\n",
    "precio = fila_min[\"price\"]\n",
    "\n",
    "# Retornar el resultado con f-string\n",
    "f\"La casa más barata se encuentra en la dirección: {direccion} y su precio es €{precio}\""
   ],
   "outputs": [],
   "execution_count": null
  },
  {
   "attachments": {},
   "cell_type": "markdown",
   "id": "compliant-fellowship",
   "metadata": {},
   "source": [
    "#### Ejercicio 03\n",
    "\n",
    "¿Cuál es la casa más grande del dataset? (★☆☆)\n",
    "\n",
    "Imprime la dirección y el área de las casas seleccionadas utilizando f-string"
   ]
  },
  {
   "cell_type": "code",
   "id": "f73938ad",
   "metadata": {},
   "source": [
    "# TODO\n",
    "# Asegurar que 'surface' sea numérico y eliminar NA\n",
    "df[\"surface\"] = pd.to_numeric(df[\"surface\"], errors=\"coerce\")\n",
    "df = df.dropna(subset=[\"surface\"])\n",
    "\n",
    "# Posición de la casa más grande\n",
    "idx = np.argmax(df[\"surface\"].values)\n",
    "\n",
    "# Dirección y superficie\n",
    "direccion = df.iloc[idx][\"address\"]\n",
    "superficie = df.iloc[idx][\"surface\"]\n",
    "\n",
    "# Resultado\n",
    "f\"La casa más grande se encuentra en la dirección: {direccion} y su superficie es {superficie} m²\"\n"
   ],
   "outputs": [],
   "execution_count": null
  },
  {
   "cell_type": "markdown",
   "id": "89afefb0b0eb970e",
   "metadata": {},
   "source": [
    "#### Ejercicio 04\n",
    "\n",
    "¿Cuál es la casa más pequeña del dataset? (★☆☆)"
   ]
  },
  {
   "cell_type": "code",
   "id": "every-tiffany",
   "metadata": {},
   "source": [
    "# TODO\n",
    "# Asegurar que 'surface' sea numérico y eliminar NA\n",
    "df[\"surface\"] = pd.to_numeric(df[\"surface\"], errors=\"coerce\")\n",
    "df = df.dropna(subset=[\"surface\"])\n",
    "\n",
    "# Posición de la casa más pequeña\n",
    "idx = np.argmin(df[\"surface\"].values)\n",
    "\n",
    "# Dirección y superficie\n",
    "direccion = df.iloc[idx][\"address\"]\n",
    "superficie = df.iloc[idx][\"surface\"]\n",
    "\n",
    "# Resultado\n",
    "f\"La casa más pequeña se encuentra en la dirección: {direccion} y su superficie es {superficie} m²\""
   ],
   "outputs": [],
   "execution_count": null
  },
  {
   "attachments": {},
   "cell_type": "markdown",
   "id": "crazy-blame",
   "metadata": {},
   "source": [
    "#### Ejercicio 05.\n",
    "\n",
    "¿El dataset contiene valores no admitidos (NAs)? (★☆☆)\n",
    "\n",
    "- Muestra el nombre de las filas seguidas por un booleano (`True` o `False`) según contengan o no contengan NAs.\n",
    "- También muestra el nombre de las columnas seguidas por un booleano (`True` o `False`) según contengan o no contengan NAs."
   ]
  },
  {
   "cell_type": "code",
   "id": "transparent-poetry",
   "metadata": {},
   "source": [
    "# TODO\n",
    "class AnalisisNA:\n",
    "    def __init__(self, df):\n",
    "        self.df = df\n",
    "\n",
    "    def revisar_na(self):\n",
    "        return {\n",
    "            \"filas_con_na\": self.df.isna().any(axis=1),\n",
    "            \"columnas_con_na\": self.df.isna().any()\n",
    "        }\n",
    "\n",
    "# Uso (ya tienes df cargado antes)\n",
    "analisis = AnalisisNA(df)\n",
    "analisis.revisar_na()"
   ],
   "outputs": [],
   "execution_count": null
  },
  {
   "attachments": {},
   "cell_type": "markdown",
   "id": "italic-hydrogen",
   "metadata": {},
   "source": [
    "#### Ejercicio 06.\n",
    "\n",
    "Elimina los NAs del dataset, si aplica (★★☆)\n",
    "\n",
    "Muestra las dimensiones del DataFrame original y del DataFrame después de las eliminaciones."
   ]
  },
  {
   "cell_type": "code",
   "id": "administrative-roads",
   "metadata": {
    "ExecuteTime": {
     "end_time": "2025-09-27T22:54:34.816890Z",
     "start_time": "2025-09-27T22:54:34.797852Z"
    }
   },
   "source": [
    "# TODO\n",
    "class LimpiezaNA:\n",
    "    def __init__(self, df):\n",
    "        self.df = df\n",
    "\n",
    "    def eliminar_na(self):\n",
    "        # Dimensiones originales\n",
    "        original_shape = self.df.shape\n",
    "\n",
    "        # Eliminar filas con NAs\n",
    "        df_sin_na = self.df.dropna()\n",
    "\n",
    "        # Dimensiones después de eliminar\n",
    "        nuevo_shape = df_sin_na.shape\n",
    "\n",
    "        return {\n",
    "            \"dimensiones_originales\": original_shape,\n",
    "            \"dimensiones_sin_na\": nuevo_shape\n",
    "        }\n",
    "\n",
    "# Uso (ya tienes df cargado antes)\n",
    "limpieza = LimpiezaNA(df)\n",
    "limpieza.eliminar_na()"
   ],
   "outputs": [
    {
     "data": {
      "text/plain": [
       "{'dimensiones_originales': (14085, 37), 'dimensiones_sin_na': (0, 37)}"
      ]
     },
     "execution_count": 63,
     "metadata": {},
     "output_type": "execute_result"
    }
   ],
   "execution_count": 63
  },
  {
   "cell_type": "markdown",
   "id": "c00ce93f7105532e",
   "metadata": {},
   "source": [
    "#### Ejercicio 07\n",
    "\n",
    "¿Cuantas poblaciones (columna level5) contiene el dataset? (★☆☆)\n",
    "\n",
    "- Muestra una lista con los nombres de las poblaciones\n",
    "- Muestra el total de las mismas"
   ]
  },
  {
   "cell_type": "code",
   "id": "dd8aec62c12bd8db",
   "metadata": {
    "ExecuteTime": {
     "end_time": "2025-09-27T22:55:49.527927Z",
     "start_time": "2025-09-27T22:55:49.516218Z"
    }
   },
   "source": [
    "# TODO\n",
    "class AnalisisPoblaciones:\n",
    "    def __init__(self, df):\n",
    "        self.df = df\n",
    "\n",
    "    def poblaciones(self):\n",
    "        # Quitar NAs y valores duplicados\n",
    "        poblaciones = self.df[\"level5\"].dropna().unique()\n",
    "        total = len(poblaciones)\n",
    "\n",
    "        return {\n",
    "            \"lista_poblaciones\": poblaciones.tolist(),\n",
    "            \"total_poblaciones\": total\n",
    "        }\n",
    "\n",
    "# Uso (ya tienes df cargado antes)\n",
    "analisis = AnalisisPoblaciones(df)\n",
    "analisis.poblaciones()"
   ],
   "outputs": [
    {
     "data": {
      "text/plain": [
       "{'lista_poblaciones': ['Arganda del Rey',\n",
       "  'Boadilla del Monte',\n",
       "  'Fuenlabrada',\n",
       "  'Las Rozas de Madrid',\n",
       "  ' Madrid Capital',\n",
       "  'Villaviciosa de Odón',\n",
       "  'Pinto',\n",
       "  'Valdemoro',\n",
       "  'Navalcarnero',\n",
       "  'Pozuelo de Alarcón',\n",
       "  'Torrejón de Ardoz',\n",
       "  'Navalagamella',\n",
       "  'San Sebastián de los Reyes',\n",
       "  'Rivas-vaciamadrid',\n",
       "  'Alpedrete',\n",
       "  'Móstoles',\n",
       "  'San Fernando de Henares',\n",
       "  'Coslada',\n",
       "  'Becerril de la Sierra',\n",
       "  'Alcalá de Henares',\n",
       "  'Chinchón',\n",
       "  'Parla',\n",
       "  'Alcorcón',\n",
       "  'El Escorial',\n",
       "  'Leganés',\n",
       "  'Pedrezuela',\n",
       "  'Majadahonda',\n",
       "  'Villanueva de la Cañada',\n",
       "  'Villanueva del Pardillo',\n",
       "  'Torrelodones',\n",
       "  'Moralzarzal',\n",
       "  'Mejorada del Campo',\n",
       "  'Aranjuez',\n",
       "  'Corpa',\n",
       "  'Getafe',\n",
       "  'Velilla de San Antonio',\n",
       "  'Sevilla la Nueva',\n",
       "  'San Martín de la Vega',\n",
       "  'Villalbilla',\n",
       "  'Collado Villalba',\n",
       "  'Alcobendas',\n",
       "  'El Molar (Madrid)',\n",
       "  'Moraleja de Enmedio',\n",
       "  'Algete',\n",
       "  'Campo Real',\n",
       "  'Torrejón de la Calzada',\n",
       "  'Colmenar Viejo',\n",
       "  'Valdemorillo',\n",
       "  'Fuente El Saz de Jarama',\n",
       "  'Tres Cantos',\n",
       "  'Arroyomolinos (Madrid)',\n",
       "  'Griñón',\n",
       "  'Paracuellos de Jarama',\n",
       "  'Guadarrama',\n",
       "  'Titulcia',\n",
       "  'Galapagar',\n",
       "  'Collado Mediano',\n",
       "  'Los Molinos',\n",
       "  'San Lorenzo de El Escorial',\n",
       "  'Loeches',\n",
       "  'San Martín de Valdeiglesias',\n",
       "  'Navas del Rey',\n",
       "  'Bustarviejo',\n",
       "  'Manzanares El Real',\n",
       "  'Carabaña',\n",
       "  'Casarrubuelos',\n",
       "  'Cercedilla',\n",
       "  'Fresnedillas de la Oliva',\n",
       "  'Valdemaqueda',\n",
       "  'Miraflores de la Sierra',\n",
       "  'Humanes de Madrid',\n",
       "  'Valdetorres de Jarama',\n",
       "  'San Agustín del Guadalix',\n",
       "  'Camarma de Esteruelas',\n",
       "  'Torres de la Alameda',\n",
       "  'Talamanca de Jarama',\n",
       "  'El Atazar',\n",
       "  'Hoyo de Manzanares',\n",
       "  'El Boalo - Cerceda – Mataelpino',\n",
       "  'El Álamo',\n",
       "  'Valdilecha',\n",
       "  'Valdeolmos-Alalpardo',\n",
       "  'Brunete',\n",
       "  'Redueña',\n",
       "  'Morata de Tajuña',\n",
       "  'Tielmes',\n",
       "  'Gargantilla del Lozoya',\n",
       "  'Guadalix de la Sierra',\n",
       "  'Meco',\n",
       "  'Venturada',\n",
       "  'Quijorna',\n",
       "  'Cenicientos',\n",
       "  'Torrejón de Velasco',\n",
       "  'Navacerrada',\n",
       "  'Ciempozuelos',\n",
       "  'Santa María de la Alameda',\n",
       "  'Robledo de Chavela',\n",
       "  'Orusco de Tajuña',\n",
       "  'Daganzo de Arriba',\n",
       "  'Villamanta',\n",
       "  'Anchuelo',\n",
       "  'Valdaracete',\n",
       "  'Ajalvir',\n",
       "  'Los Santos de la Humosa',\n",
       "  'Villamanrique de Tajo',\n",
       "  'Colmenar de Oreja',\n",
       "  'Villa del Prado',\n",
       "  'Fuentidueña de Tajo',\n",
       "  'Colmenar del Arroyo',\n",
       "  'Belmonte de Tajo',\n",
       "  'Valdelaguna',\n",
       "  'Valdeavero',\n",
       "  'Aldea del Fresno',\n",
       "  'Ribatejada',\n",
       "  'Batres',\n",
       "  'Pezuela de las Torres',\n",
       "  'Colmenarejo',\n",
       "  'Serranillos del Valle',\n",
       "  'Cobeña',\n",
       "  'Soto del Real',\n",
       "  'Cubas de la Sagra',\n",
       "  'El Berrueco',\n",
       "  'Villanueva de Perales',\n",
       "  'Fresno de Torote - Serracines',\n",
       "  'Pozuelo del Rey',\n",
       "  'Pelayos de la Presa',\n",
       "  'El Vellón',\n",
       "  'La Cabrera',\n",
       "  'Nuevo Baztán',\n",
       "  'Perales de Tajuña',\n",
       "  'Villaconejos',\n",
       "  'Villarejo de Salvanés',\n",
       "  'Cadalso de los Vidrios',\n",
       "  'Santorcaz',\n",
       "  'Madarcos',\n",
       "  'Garganta de los Montes',\n",
       "  'Puentes Viejas',\n",
       "  'Torremocha de Jarama',\n",
       "  'Valdemanco',\n",
       "  'Braojos',\n",
       "  'Lozoyuela-navas-sieteiglesias',\n",
       "  'Piñuécar-gandullas',\n",
       "  'Valdepiélagos',\n",
       "  'Valverde de Alcalá',\n",
       "  'Villar del Olmo',\n",
       "  'Villamantilla',\n",
       "  'Horcajo de la Sierra',\n",
       "  'Gascones',\n",
       "  'Zarzalejo',\n",
       "  'Brea de Tajo',\n",
       "  'Estremera',\n",
       "  'Chapinería',\n",
       "  'Torrelaguna',\n",
       "  'Navarredonda',\n",
       "  'Patones',\n",
       "  'Ambite',\n",
       "  'Navalafuente',\n",
       "  'Lozoya',\n",
       "  'Villavieja del Lozoya',\n",
       "  'Canencia',\n",
       "  'Cabanillas de la Sierra',\n",
       "  'Buitrago del Lozoya',\n",
       "  'Fresno de Torote',\n",
       "  'Robregordo',\n",
       "  'Pinilla del Valle',\n",
       "  'Rascafría',\n",
       "  'La Hiruela',\n",
       "  'Montejo de la Sierra'],\n",
       " 'total_poblaciones': 168}"
      ]
     },
     "execution_count": 64,
     "metadata": {},
     "output_type": "execute_result"
    }
   ],
   "execution_count": 64
  },
  {
   "cell_type": "markdown",
   "id": "ffe874b946959731",
   "metadata": {},
   "source": [
    "#### Ejercicio 08\n",
    "\n",
    "¿Cuál es la media de precios en la población (columna level5) de \"Arroyomolinos (Madrid)\"? (★★☆)"
   ]
  },
  {
   "cell_type": "code",
   "id": "1454ad464d3f1dfe",
   "metadata": {},
   "source": [
    "# TODO"
   ],
   "outputs": [],
   "execution_count": null
  },
  {
   "attachments": {},
   "cell_type": "markdown",
   "id": "actual-edinburgh",
   "metadata": {},
   "source": [
    "#### Ejercicio 09.\n",
    "\n",
    "¿Los precios promedios de \"Valdemorillo\" y \"Galapagar\" son iguales? (★★☆)\n",
    "\n",
    "- Muestra ambos promedios\n",
    "- Escribe en una celda markdown una conclusión sobre ellos"
   ]
  },
  {
   "cell_type": "code",
   "id": "numeric-commerce",
   "metadata": {},
   "source": [
    "# TODO"
   ],
   "outputs": [],
   "execution_count": null
  },
  {
   "attachments": {},
   "cell_type": "markdown",
   "id": "lonely-article",
   "metadata": {},
   "source": [
    "#### Ejercicio 10\n",
    "\n",
    "¿Los promedios de precio por metro cuadrado (precio/m2) de \"Valdemorillo\" y \"Galapagar\" son iguales? (★★☆)\n",
    "\n",
    "> Pista: Crea una nueva columna llamada `pps` (*price per square* o precio por metro cuadrado) y luego analiza los valores.\n",
    "\n",
    "- Muestra ambos promedios de precio por metro cuadrado\n",
    "- Escribe en una celda markdown una conclusión sobre ellos"
   ]
  },
  {
   "cell_type": "code",
   "id": "common-drilling",
   "metadata": {},
   "source": [
    "# TODO"
   ],
   "outputs": [],
   "execution_count": null
  },
  {
   "attachments": {},
   "cell_type": "markdown",
   "id": "coordinate-sunrise",
   "metadata": {},
   "source": [
    "#### Ejercicio 11\n",
    "\n",
    "¿Cuántas agencia de bienes raíces contiene el dataset? (★★☆)\n",
    "\n",
    "- Muestra el valor obtenido."
   ]
  },
  {
   "cell_type": "code",
   "id": "valid-honolulu",
   "metadata": {},
   "source": [
    "# TODO"
   ],
   "outputs": [],
   "execution_count": null
  },
  {
   "attachments": {},
   "cell_type": "markdown",
   "id": "binding-ebony",
   "metadata": {},
   "source": [
    "#### Ejercicio 12\n",
    "\n",
    "¿Cuál es la población (columna level5) que contiene la mayor cantidad de casas?(★★☆)\n",
    "\n",
    "- Muestra la población y el número de casas."
   ]
  },
  {
   "cell_type": "code",
   "id": "static-perry",
   "metadata": {},
   "source": [
    "# TODO"
   ],
   "outputs": [],
   "execution_count": null
  },
  {
   "cell_type": "markdown",
   "id": "f6891b36e4d016c4",
   "metadata": {},
   "source": [
    "---\n",
    "\n",
    "## Trabajando con un subconjunto del DataFrame"
   ]
  },
  {
   "attachments": {},
   "cell_type": "markdown",
   "id": "entire-classification",
   "metadata": {},
   "source": [
    "#### Ejercicio 13\n",
    "\n",
    "Ahora vamos a trabajar con el \"cinturón sur\" de Madrid.\n",
    "\n",
    "Haz un subconjunto del DataFrame original que contenga las siguientes poblaciones (columna level5): \"Fuenlabrada\", \"Leganés\", \"Getafe\", \"Alcorcón\" (★★☆)\n",
    "\n",
    "> Pista: Filtra el DataFrame original usando la columna `level5` y la función `isin`."
   ]
  },
  {
   "cell_type": "code",
   "id": "binary-input",
   "metadata": {},
   "source": [
    "# TODO"
   ],
   "outputs": [],
   "execution_count": null
  },
  {
   "attachments": {},
   "cell_type": "markdown",
   "id": "speaking-diamond",
   "metadata": {},
   "source": [
    "#### Ejercicio 14\n",
    "\n",
    "Calcula la media y la varianza de muestra para las siguientes variables: precio, habitaciones, superficie y baños (★★★)\n",
    "\n",
    "> Debes usar el subset obtenido en la pregunta 13\n",
    "\n",
    "- Crea y visualiza un diccionario con todos los valores"
   ]
  },
  {
   "cell_type": "code",
   "id": "random-feeling",
   "metadata": {},
   "source": [
    "# TODO"
   ],
   "outputs": [],
   "execution_count": null
  },
  {
   "attachments": {},
   "cell_type": "markdown",
   "id": "revolutionary-matrix",
   "metadata": {},
   "source": [
    "#### Ejercicio 15\n",
    "\n",
    "¿Cuál es la casa más cara de cada población del cinturón sur de Madríd? (★★☆)\n",
    "\n",
    "> Debes usar el subset obtenido en la pregunta 13\n",
    "\n",
    "- Genera un DataFrame con esta información\n",
    "- Muestra tanto la dirección como el precio de la casa seleccionada de cada población.\n",
    "- Genera conclusiones en una celda markdown"
   ]
  },
  {
   "cell_type": "code",
   "id": "fifteen-browse",
   "metadata": {},
   "source": [
    "# TODO"
   ],
   "outputs": [],
   "execution_count": null
  },
  {
   "attachments": {},
   "cell_type": "markdown",
   "id": "patent-jonathan",
   "metadata": {},
   "source": [
    "#### Ejercicio 16\n",
    "\n",
    "¿Qué puedes decir acerca del precio por metro cuadrado (precio/m2) entre los municipios de 'Getafe' y 'Alcorcón'? (★★☆)\n",
    "\n",
    "> Debes usar el subset obtenido en la pregunta 13\n",
    ">\n",
    "> Pista: Crea una nueva columna llamada `pps` (price per square en inglés) y luego analiza los valores"
   ]
  },
  {
   "cell_type": "code",
   "id": "initial-liverpool",
   "metadata": {},
   "source": [
    "# TODO"
   ],
   "outputs": [],
   "execution_count": null
  },
  {
   "cell_type": "markdown",
   "id": "77f4fb6b000f9e0b",
   "metadata": {},
   "source": [
    "## Conclusiones"
   ]
  },
  {
   "cell_type": "markdown",
   "id": "d68570bb7b80a83e",
   "metadata": {},
   "source": [
    "#### Ejercicio 17\n",
    "\n",
    "Escribe aquí tus conclusiones acerca de este proyecto"
   ]
  }
 ],
 "metadata": {
  "kernelspec": {
   "display_name": "Python 3",
   "language": "python",
   "name": "python3"
  },
  "language_info": {
   "codemirror_mode": {
    "name": "ipython",
    "version": 3
   },
   "file_extension": ".py",
   "mimetype": "text/x-python",
   "name": "python",
   "nbconvert_exporter": "python",
   "pygments_lexer": "ipython3",
   "version": "3.11.3"
  }
 },
 "nbformat": 4,
 "nbformat_minor": 5
}
