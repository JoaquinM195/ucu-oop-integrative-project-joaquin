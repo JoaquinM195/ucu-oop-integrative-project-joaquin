{
 "cells": [
  {
   "attachments": {},
   "cell_type": "markdown",
   "id": "innocent-university",
   "metadata": {},
   "source": [
    "# Limpieza del dataset de bienes raíces\n",
    "\n",
    "Este es un conjunto de datos (dataset) reales que fue descargado usando técnicas de web scraping. El archivo contiene registros de **Fotocasa**, el cual es uno de los sitios más populares de bienes raíces en España. Contiene miles de datos de casas reales publicadas en la web www.fotocasa.com.\n",
    "\n",
    "El dataset fue descargado hace algunos años y en ningún caso se obtuvo beneficio económico de ello.\n",
    "\n",
    "Tu objetivo es extraer tanta información como sea posible con el conocimiento que tienes hasta ahora de ciencia de datos."
   ]
  },
  {
   "cell_type": "code",
   "id": "frank-heath",
   "metadata": {},
   "source": [
    "import pandas as pd\n",
    "import numpy as np"
   ],
   "outputs": [],
   "execution_count": null
  },
  {
   "cell_type": "markdown",
   "id": "5807eba1fce08a86",
   "metadata": {},
   "source": [
    "#### Ejercicio 00\n",
    "\n",
    "Lee el dataset data/real_estate.csv e intenta visualizar la tabla (★☆☆)"
   ]
  },
  {
   "cell_type": "code",
   "id": "82e7dea53f252c1c",
   "metadata": {},
   "source": [
    "# Este archivo CSV contiene puntos y comas en lugar de comas como separadores\n",
    "df = pd.read_csv('../data/real_estate.csv', sep=';')\n",
    "df"
   ],
   "outputs": [],
   "execution_count": null
  },
  {
   "metadata": {},
   "cell_type": "code",
   "source": "df.head()",
   "id": "481b564a4b06c9b9",
   "outputs": [],
   "execution_count": null
  },
  {
   "cell_type": "markdown",
   "id": "9670bfd13cfca1e7",
   "metadata": {},
   "source": [
    "## Trabajando con un DataFrame"
   ]
  },
  {
   "attachments": {},
   "cell_type": "markdown",
   "id": "latin-guest",
   "metadata": {},
   "source": [
    "#### Ejercicio 01\n",
    "\n",
    "¿Cuál es la casa más cara del dataset? (★☆☆)\n",
    "\n",
    "Imprime la dirección y el precio de la casa seleccionada. Para visualizar el resultado utiliza un f-string. Por ejemplo:\n",
    "\n",
    "```py\n",
    "f'La casa más cara se encuentra en la dirección: {address} y su precio es {price} €'\n",
    "```"
   ]
  },
  {
   "cell_type": "code",
   "id": "developing-optimum",
   "metadata": {},
   "source": [
    "\n",
    "# Encontrar la fila con el precio máximo\n",
    "fila_max = df.loc[df[\"price\"].idxmax()]\n",
    "\n",
    "# Extraer la dirección y el precio\n",
    "direccion = fila_max[\"address\"]\n",
    "precio = fila_max[\"price\"]\n",
    "\n",
    "# Retornar el resultado con f-string\n",
    "f\"La casa más cara se encuentra en la dirección: {direccion} y su precio es €{precio}\""
   ],
   "outputs": [],
   "execution_count": null
  },
  {
   "attachments": {},
   "cell_type": "markdown",
   "id": "lesser-cosmetic",
   "metadata": {},
   "source": [
    "#### Ejercicio 02\n",
    "\n",
    "¿Cuál es la casa más barata del dataset? (★☆☆)\n",
    "\n",
    "Imprime la dirección y el precio de la casa seleccionada utilizando f-string"
   ]
  },
  {
   "cell_type": "code",
   "id": "lovely-oasis",
   "metadata": {},
   "source": [
    "\n",
    "# Filtrar las filas con precio mínimo distinto de 0\n",
    "df_filtrado = df[df[\"price\"] != 0]\n",
    "\n",
    "# Encontrar la fila con el precio mínimo (sin contar los ceros)\n",
    "fila_min = df_filtrado.loc[df_filtrado[\"price\"].idxmin()]\n",
    "\n",
    "# Extraer la dirección y el precio\n",
    "direccion = fila_min[\"address\"]\n",
    "precio = fila_min[\"price\"]\n",
    "\n",
    "# Retornar el resultado con f-string\n",
    "f\"La casa más barata se encuentra en la dirección: {direccion} y su precio es €{precio}\"\n"
   ],
   "outputs": [],
   "execution_count": null
  },
  {
   "attachments": {},
   "cell_type": "markdown",
   "id": "compliant-fellowship",
   "metadata": {},
   "source": [
    "#### Ejercicio 03\n",
    "\n",
    "¿Cuál es la casa más grande del dataset? (★☆☆)\n",
    "\n",
    "Imprime la dirección y el área de las casas seleccionadas utilizando f-string"
   ]
  },
  {
   "metadata": {},
   "cell_type": "code",
   "source": "df['surface'].dtypes",
   "id": "ad544057e84233f9",
   "outputs": [],
   "execution_count": null
  },
  {
   "metadata": {},
   "cell_type": "code",
   "source": [
    "surface_max = df.loc[df[\"surface\"].idxmax()]\n",
    "surface_max"
   ],
   "id": "60619308ef6bb85d",
   "outputs": [],
   "execution_count": null
  },
  {
   "metadata": {},
   "cell_type": "code",
   "source": [
    "\n",
    "# Asegurar que 'surface' sea numérico y eliminar NA\n",
    "df[\"surface\"] = pd.to_numeric(df[\"surface\"], errors=\"coerce\")\n",
    "df = df.dropna(subset=[\"surface\"])\n",
    "\n",
    "# Posición de la casa más grande\n",
    "idx = np.argmax(df[\"surface\"].values)\n",
    "\n",
    "# Dirección y superficie\n",
    "direccion = df.iloc[idx][\"address\"]\n",
    "superficie = df.iloc[idx][\"surface\"]\n",
    "\n",
    "# Resultado\n",
    "f\"La casa más grande se encuentra en la dirección: {direccion} y su superficie es {superficie} m²\"\n"
   ],
   "id": "797ff1975103c097",
   "outputs": [],
   "execution_count": null
  },
  {
   "cell_type": "markdown",
   "id": "89afefb0b0eb970e",
   "metadata": {},
   "source": [
    "#### Ejercicio 04\n",
    "\n",
    "¿Cuál es la casa más pequeña del dataset? (★☆☆)"
   ]
  },
  {
   "metadata": {},
   "cell_type": "code",
   "source": "df['surface'].dtypes",
   "id": "4182c1973530c068",
   "outputs": [],
   "execution_count": null
  },
  {
   "metadata": {},
   "cell_type": "code",
   "source": [
    "surface_min = df.loc[df[\"surface\"].idxmin()]\n",
    "surface_min"
   ],
   "id": "65d3fbbbdfd4314e",
   "outputs": [],
   "execution_count": null
  },
  {
   "cell_type": "code",
   "id": "every-tiffany",
   "metadata": {},
   "source": [
    "\n",
    "# Asegurar que 'surface' sea numérico y eliminar NA\n",
    "df[\"surface\"] = pd.to_numeric(df[\"surface\"], errors=\"coerce\")\n",
    "df = df.dropna(subset=[\"surface\"])\n",
    "\n",
    "# Posición de la casa más pequeña\n",
    "idx = np.argmin(df[\"surface\"].values)\n",
    "\n",
    "# Dirección y superficie\n",
    "direccion = df.iloc[idx][\"address\"]\n",
    "superficie = df.iloc[idx][\"surface\"]\n",
    "\n",
    "# Resultado\n",
    "f\"La casa más pequeña se encuentra en la dirección: {direccion} y su superficie es {superficie} m²\""
   ],
   "outputs": [],
   "execution_count": null
  },
  {
   "attachments": {},
   "cell_type": "markdown",
   "id": "crazy-blame",
   "metadata": {},
   "source": [
    "#### Ejercicio 05.\n",
    "\n",
    "¿El dataset contiene valores no admitidos (NAs)? (★☆☆)\n",
    "\n",
    "- Muestra el nombre de las filas seguidas por un booleano (`True` o `False`) según contengan o no contengan NAs.\n",
    "- También muestra el nombre de las columnas seguidas por un booleano (`True` o `False`) según contengan o no contengan NAs."
   ]
  },
  {
   "cell_type": "code",
   "id": "transparent-poetry",
   "metadata": {},
   "source": [
    "\n",
    "class AnalisisNA:\n",
    "    def __init__(self, dataframe):\n",
    "        self.df = dataframe\n",
    "\n",
    "    def revisar_na(self):\n",
    "        result = {\"filas_con_na\": self.df.isna().any(axis=1),\n",
    "                  \"columnas_con_na\": self.df.isna().any()}\n",
    "        return result\n",
    "\n",
    "# Uso (ya tienes df cargado antes)\n",
    "analisis = AnalisisNA(df)\n",
    "analisis.revisar_na()"
   ],
   "outputs": [],
   "execution_count": null
  },
  {
   "attachments": {},
   "cell_type": "markdown",
   "id": "italic-hydrogen",
   "metadata": {},
   "source": [
    "#### Ejercicio 06.\n",
    "\n",
    "Elimina los NAs del dataset, si aplica (★★☆)\n",
    "\n",
    "Muestra las dimensiones del DataFrame original y del DataFrame después de las eliminaciones."
   ]
  },
  {
   "cell_type": "code",
   "id": "administrative-roads",
   "metadata": {},
   "source": [
    "# Dimensiones originales\n",
    "print(\"Dimensiones originales:\", df.shape)\n",
    "\n",
    "# Eliminar columnas zipCode y customZone\n",
    "df = df.drop(columns=[\"zipCode\", \"customZone\"], errors=\"ignore\")\n",
    "\n",
    "# Dimensiones después de eliminar\n",
    "print(\"Dimensiones sin zipCode y customZone:\", df.shape)"
   ],
   "outputs": [],
   "execution_count": null
  },
  {
   "cell_type": "markdown",
   "id": "c00ce93f7105532e",
   "metadata": {},
   "source": [
    "#### Ejercicio 07\n",
    "\n",
    "¿Cuantas poblaciones (columna level5) contiene el dataset? (★☆☆)\n",
    "\n",
    "- Muestra una lista con los nombres de las poblaciones\n",
    "- Muestra el total de las mismas"
   ]
  },
  {
   "cell_type": "code",
   "id": "dd8aec62c12bd8db",
   "metadata": {},
   "source": [
    "# Quitar NAs y valores duplicados\n",
    "poblaciones = df[\"level5\"].dropna().unique()\n",
    "\n",
    "# Convertir a lista con NumPy\n",
    "poblaciones = np.array(poblaciones).tolist()\n",
    "\n",
    "# Contar total\n",
    "total = len(poblaciones)\n",
    "\n",
    "poblaciones, total"
   ],
   "outputs": [],
   "execution_count": null
  },
  {
   "cell_type": "markdown",
   "id": "ffe874b946959731",
   "metadata": {},
   "source": [
    "#### Ejercicio 08\n",
    "\n",
    "¿Cuál es la media de precios en la población (columna level5) de \"Arroyomolinos (Madrid)\"? (★★☆)"
   ]
  },
  {
   "cell_type": "code",
   "id": "1454ad464d3f1dfe",
   "metadata": {},
   "source": [
    "# Filtrar solo las filas donde level5 sea \"Arroyomolinos (Madrid)\"\n",
    "arroyomolinos = df.loc[df[\"level5\"] == \"Arroyomolinos (Madrid)\"].copy()\n",
    "\n",
    "# Calcular la media de price\n",
    "media_precios = arroyomolinos[\"price\"].mean()\n",
    "\n",
    "# Retornar con f-string\n",
    "f\"Media de precios en Arroyomolinos (Madrid): {media_precios:.2f} € | Número de propiedades analizadas: {len(arroyomolinos)}\"\n",
    "\n"
   ],
   "outputs": [],
   "execution_count": null
  },
  {
   "attachments": {},
   "cell_type": "markdown",
   "id": "actual-edinburgh",
   "metadata": {},
   "source": [
    "#### Ejercicio 09.\n",
    "\n",
    "¿Los precios promedios de \"Valdemorillo\" y \"Galapagar\" son iguales? (★★☆)\n",
    "\n",
    "- Muestra ambos promedios\n",
    "- Escribe en una celda markdown una conclusión sobre ellos"
   ]
  },
  {
   "cell_type": "code",
   "id": "numeric-commerce",
   "metadata": {},
   "source": [
    "media_valdemorillo = df[df[\"level5\"] == \"Valdemorillo\"][\"price\"].mean()\n",
    "media_galapagar = df[df[\"level5\"] == \"Galapagar\"][\"price\"].mean()\n",
    "\n",
    "print(\"Media Valdemorillo:\", media_valdemorillo)\n",
    "print(\"Media Galapagar:\", media_galapagar)\n",
    "\n",
    "if media_valdemorillo == media_galapagar:\n",
    "    print(\"Los precios promedios son iguales\")\n",
    "else:\n",
    "    print(\"Los precios promedios NO son iguales\")"
   ],
   "outputs": [],
   "execution_count": null
  },
  {
   "attachments": {},
   "cell_type": "markdown",
   "id": "lonely-article",
   "metadata": {},
   "source": [
    "#### Ejercicio 10\n",
    "\n",
    "¿Los promedios de precio por metro cuadrado (precio/m2) de \"Valdemorillo\" y \"Galapagar\" son iguales? (★★☆)\n",
    "\n",
    "> Pista: Crea una nueva columna llamada `pps` (*price per square* o precio por metro cuadrado) y luego analiza los valores.\n",
    "\n",
    "- Muestra ambos promedios de precio por metro cuadrado\n",
    "- Escribe en una celda markdown una conclusión sobre ellos"
   ]
  },
  {
   "cell_type": "code",
   "id": "common-drilling",
   "metadata": {},
   "source": [
    "# Asegurar nombres limpios\n",
    "df.columns = df.columns.str.strip()\n",
    "\n",
    "# Detectar la columna de m²\n",
    "area_cols_posibles = [\"size\", \"m2\", \"area\", \"surface\", \"metros2\", \"sqm\", \"squareMeters\"]\n",
    "area_cols = [c for c in area_cols_posibles if c in df.columns]\n",
    "area_col = area_cols[0]\n",
    "\n",
    "# Asegurar numéricos\n",
    "df[\"price\"] = pd.to_numeric(df[\"price\"], errors=\"coerce\")\n",
    "df[area_col] = pd.to_numeric(df[area_col], errors=\"coerce\")\n",
    "\n",
    "# Crear precio por m²\n",
    "df[\"pps\"] = df[\"price\"] / df[area_col]\n",
    "\n",
    "# Calcular promedios\n",
    "pps_valdemorillo = df.loc[df[\"level5\"] == \"Valdemorillo\", \"pps\"].mean()\n",
    "pps_galapagar   = df.loc[df[\"level5\"] == \"Galapagar\",   \"pps\"].mean()\n",
    "\n",
    "# Mostrar resultados con f-strings\n",
    "resultado1 = f\"Precio medio por m² en Valdemorillo: {pps_valdemorillo:.2f} €/m²\"\n",
    "resultado2 = f\"Precio medio por m² en Galapagar: {pps_galapagar:.2f} €/m²\"\n",
    "resultado3 = f\"¿Los promedios son iguales? {'Sí' if abs(pps_valdemorillo - pps_galapagar) < 1e-9 else 'No'}\"\n",
    "\n",
    "resultado1, resultado2, resultado3\n",
    "\n"
   ],
   "outputs": [],
   "execution_count": null
  },
  {
   "metadata": {},
   "cell_type": "markdown",
   "source": [
    "### Conclusión\n",
    "Se calcularon los promedios de precio por metro cuadrado (pps) para **Valdemorillo** y **Galapagar** a partir de la columna `pps = price / m²`.\n",
    "Por lo que se ve el precio promedio medio por metro cuadrado son levemente superiores en Galapagar que en Valdemorillo, esto se mantiene por la línea del ejercicio anterior, donde vimos una superioridad que puede estar causada por una mejor ubicación o una menor oferta de prioridades lo que hace que a\n"
   ],
   "id": "f02498680eb0284e"
  },
  {
   "attachments": {},
   "cell_type": "markdown",
   "id": "coordinate-sunrise",
   "metadata": {},
   "source": [
    "#### Ejercicio 11\n",
    "\n",
    "¿Cuántas agencia de bienes raíces contiene el dataset? (★★☆)\n",
    "\n",
    "- Muestra el valor obtenido."
   ]
  },
  {
   "cell_type": "code",
   "id": "valid-honolulu",
   "metadata": {},
   "source": [
    "num_agencias = df[\"realEstate_name\"].nunique()\n",
    "\n",
    "f\"Cantidad de agencias de bienes raíces en el dataset: {num_agencias}\"\n"
   ],
   "outputs": [],
   "execution_count": null
  },
  {
   "attachments": {},
   "cell_type": "markdown",
   "id": "binding-ebony",
   "metadata": {},
   "source": [
    "#### Ejercicio 12\n",
    "\n",
    "¿Cuál es la población (columna level5) que contiene la mayor cantidad de casas?(★★☆)\n",
    "\n",
    "- Muestra la población y el número de casas."
   ]
  },
  {
   "cell_type": "code",
   "id": "static-perry",
   "metadata": {},
   "source": [
    "conteo_casas = df[\"level5\"].value_counts()\n",
    "\n",
    "poblacion_max = conteo_casas.idxmax()\n",
    "num_casas_max = conteo_casas.max()\n",
    "\n",
    "f\"La población con más casas es '{poblacion_max}' con {num_casas_max} casas.\"\n"
   ],
   "outputs": [],
   "execution_count": null
  },
  {
   "cell_type": "markdown",
   "id": "f6891b36e4d016c4",
   "metadata": {},
   "source": [
    "---\n",
    "\n",
    "## Trabajando con un subconjunto del DataFrame"
   ]
  },
  {
   "attachments": {},
   "cell_type": "markdown",
   "id": "entire-classification",
   "metadata": {},
   "source": [
    "#### Ejercicio 13\n",
    "\n",
    "Ahora vamos a trabajar con el \"cinturón sur\" de Madrid.\n",
    "\n",
    "Haz un subconjunto del DataFrame original que contenga las siguientes poblaciones (columna level5): \"Fuenlabrada\", \"Leganés\", \"Getafe\", \"Alcorcón\" (★★☆)\n",
    "\n",
    "> Pista: Filtra el DataFrame original usando la columna `level5` y la función `isin`."
   ]
  },
  {
   "metadata": {},
   "cell_type": "code",
   "source": [
    "# Definir las poblaciones del cinturón sur\n",
    "cinturon_sur = [\"Fuenlabrada\", \"Leganés\", \"Getafe\", \"Alcorcón\"]\n",
    "\n",
    "# Subset\n",
    "subset_cinturon_sur = df[df[\"level5\"].isin(cinturon_sur)]\n",
    "\n",
    "# Número total de registros\n",
    "total_registros = subset_cinturon_sur.shape[0]\n",
    "\n",
    "# Cantidad por población\n",
    "cantidad_por_poblacion = subset_cinturon_sur[\"level5\"].value_counts()\n",
    "\n",
    "total_registros, cantidad_por_poblacion"
   ],
   "id": "d4576ff0b28da93b",
   "outputs": [],
   "execution_count": null
  },
  {
   "cell_type": "code",
   "id": "binary-input",
   "metadata": {},
   "source": [
    "# Definir las poblaciones del cinturón sur\n",
    "cinturon_sur = [\"Fuenlabrada\", \"Leganés\", \"Getafe\", \"Alcorcón\"]\n",
    "\n",
    "# Subset\n",
    "subset_cinturon_sur = df[df[\"level5\"].isin(cinturon_sur)]\n",
    "\n",
    "# Verificar\n",
    "print(subset_cinturon_sur.head())\n",
    "print(\"Número de registros en el subset:\", len(subset_cinturon_sur))"
   ],
   "outputs": [],
   "execution_count": null
  },
  {
   "attachments": {},
   "cell_type": "markdown",
   "id": "speaking-diamond",
   "metadata": {},
   "source": [
    "#### Ejercicio 14\n",
    "\n",
    "Calcula la media y la varianza de muestra para las siguientes variables: precio, habitaciones, superficie y baños (★★★)\n",
    "\n",
    "> Debes usar el subset obtenido en la pregunta 13\n",
    "\n",
    "- Crea y visualiza un diccionario con todos los valores"
   ]
  },
  {
   "metadata": {
    "ExecuteTime": {
     "end_time": "2025-10-02T11:34:44.055478Z",
     "start_time": "2025-10-02T11:34:44.047739Z"
    }
   },
   "cell_type": "code",
   "source": [
    "resultados = {\"Precio - media\": subset_cinturon_sur[\"price\"].mean(),\n",
    "    \"Precio - varianza\": subset_cinturon_sur[\"price\"].var(ddof=1),\n",
    "    \"Habitaciones - media\": subset_cinturon_sur[\"rooms\"].mean(),\n",
    "    \"Habitaciones - varianza\": subset_cinturon_sur[\"rooms\"].var(ddof=1),\n",
    "    \"Superficie - media\": subset_cinturon_sur[\"surface\"].mean(),\n",
    "    \"Superficie - varianza\": subset_cinturon_sur[\"surface\"].var(ddof=1),\n",
    "    \"Baños - media\": subset_cinturon_sur[\"bathrooms\"].mean(),\n",
    "    \"Baños - varianza\": subset_cinturon_sur[\"bathrooms\"].var(ddof=1)}\n",
    "resultados"
   ],
   "id": "bd5fdeb6532ef83d",
   "outputs": [
    {
     "data": {
      "text/plain": [
       "{'Precio - media': np.float64(222009.1156289708),\n",
       " 'Precio - varianza': np.float64(15166379956.903913),\n",
       " 'Habitaciones - media': np.float64(3.0063856960408684),\n",
       " 'Habitaciones - varianza': np.float64(0.7045627513040866),\n",
       " 'Superficie - media': np.float64(111.75222363405337),\n",
       " 'Superficie - varianza': np.float64(4263.051760316336),\n",
       " 'Baños - media': np.float64(1.6363636363636365),\n",
       " 'Baños - varianza': np.float64(0.5727272727272728)}"
      ]
     },
     "execution_count": 32,
     "metadata": {},
     "output_type": "execute_result"
    }
   ],
   "execution_count": 32
  },
  {
   "cell_type": "code",
   "id": "random-feeling",
   "metadata": {},
   "source": [
    "resultados = {\"Precio - media\": subset_cinturon_sur[\"price\"].mean(),\n",
    "    \"Precio - varianza\": subset_cinturon_sur[\"price\"].var(ddof=1),\n",
    "    \"Habitaciones - media\": subset_cinturon_sur[\"rooms\"].mean(),\n",
    "    \"Habitaciones - varianza\": subset_cinturon_sur[\"rooms\"].var(ddof=1),\n",
    "    \"Superficie - media\": subset_cinturon_sur[\"surface\"].mean(),\n",
    "    \"Superficie - varianza\": subset_cinturon_sur[\"surface\"].var(ddof=1),\n",
    "    \"Baños - media\": subset_cinturon_sur[\"bathrooms\"].mean(),\n",
    "    \"Baños - varianza\": subset_cinturon_sur[\"bathrooms\"].var(ddof=1),}\n",
    "\n",
    "print(\"Resultados (media y varianza muestral):\\n\")\n",
    "for clave, valor in resultados.items():\n",
    "    print(f\"{clave:25} -> {valor:.2f}\")"
   ],
   "outputs": [],
   "execution_count": null
  },
  {
   "attachments": {},
   "cell_type": "markdown",
   "id": "revolutionary-matrix",
   "metadata": {},
   "source": [
    "#### Ejercicio 15\n",
    "\n",
    "¿Cuál es la casa más cara de cada población del cinturón sur de Madríd? (★★☆)\n",
    "\n",
    "> Debes usar el subset obtenido en la pregunta 13\n",
    "\n",
    "- Genera un DataFrame con esta información\n",
    "- Muestra tanto la dirección como el precio de la casa seleccionada de cada población.\n",
    "- Genera conclusiones en una celda markdown"
   ]
  },
  {
   "metadata": {
    "ExecuteTime": {
     "end_time": "2025-10-02T11:36:10.898737Z",
     "start_time": "2025-10-02T11:36:10.888332Z"
    }
   },
   "cell_type": "code",
   "source": [
    "# Encontrar la casa más cara de cada población del subset\n",
    "casas_caras = subset_cinturon_sur.loc[\n",
    "subset_cinturon_sur.groupby(\"level5\")[\"price\"].idxmax(),\n",
    "    [\"level5\", \"address\", \"price\"]]\n",
    "casas_caras"
   ],
   "id": "49262a2cf15d6d5a",
   "outputs": [
    {
     "data": {
      "text/plain": [
       "            level5                                address    price\n",
       "5585      Alcorcón                               Alcorcón   950000\n",
       "11561  Fuenlabrada  Calle de Paulo Freire, 5, Fuenlabrada   490000\n",
       "2881        Getafe                                 Getafe  1050000\n",
       "10412      Leganés           Avenida Reina Sofía, Leganés   650000"
      ],
      "text/html": [
       "<div>\n",
       "<style scoped>\n",
       "    .dataframe tbody tr th:only-of-type {\n",
       "        vertical-align: middle;\n",
       "    }\n",
       "\n",
       "    .dataframe tbody tr th {\n",
       "        vertical-align: top;\n",
       "    }\n",
       "\n",
       "    .dataframe thead th {\n",
       "        text-align: right;\n",
       "    }\n",
       "</style>\n",
       "<table border=\"1\" class=\"dataframe\">\n",
       "  <thead>\n",
       "    <tr style=\"text-align: right;\">\n",
       "      <th></th>\n",
       "      <th>level5</th>\n",
       "      <th>address</th>\n",
       "      <th>price</th>\n",
       "    </tr>\n",
       "  </thead>\n",
       "  <tbody>\n",
       "    <tr>\n",
       "      <th>5585</th>\n",
       "      <td>Alcorcón</td>\n",
       "      <td>Alcorcón</td>\n",
       "      <td>950000</td>\n",
       "    </tr>\n",
       "    <tr>\n",
       "      <th>11561</th>\n",
       "      <td>Fuenlabrada</td>\n",
       "      <td>Calle de Paulo Freire, 5, Fuenlabrada</td>\n",
       "      <td>490000</td>\n",
       "    </tr>\n",
       "    <tr>\n",
       "      <th>2881</th>\n",
       "      <td>Getafe</td>\n",
       "      <td>Getafe</td>\n",
       "      <td>1050000</td>\n",
       "    </tr>\n",
       "    <tr>\n",
       "      <th>10412</th>\n",
       "      <td>Leganés</td>\n",
       "      <td>Avenida Reina Sofía, Leganés</td>\n",
       "      <td>650000</td>\n",
       "    </tr>\n",
       "  </tbody>\n",
       "</table>\n",
       "</div>"
      ]
     },
     "execution_count": 33,
     "metadata": {},
     "output_type": "execute_result"
    }
   ],
   "execution_count": 33
  },
  {
   "cell_type": "code",
   "id": "fifteen-browse",
   "metadata": {
    "ExecuteTime": {
     "end_time": "2025-10-02T11:36:16.470106Z",
     "start_time": "2025-10-02T11:36:16.461417Z"
    }
   },
   "source": [
    "# Encontrar la casa más cara de cada población del subset\n",
    "casas_caras = subset_cinturon_sur.loc[\n",
    "    subset_cinturon_sur.groupby(\"level5\")[\"price\"].idxmax(),\n",
    "    [\"level5\", \"address\", \"price\"]\n",
    "]\n",
    "\n",
    "# Mostrar el DataFrame\n",
    "print(casas_caras)"
   ],
   "outputs": [
    {
     "name": "stdout",
     "output_type": "stream",
     "text": [
      "            level5                                address    price\n",
      "5585      Alcorcón                               Alcorcón   950000\n",
      "11561  Fuenlabrada  Calle de Paulo Freire, 5, Fuenlabrada   490000\n",
      "2881        Getafe                                 Getafe  1050000\n",
      "10412      Leganés           Avenida Reina Sofía, Leganés   650000\n"
     ]
    }
   ],
   "execution_count": 34
  },
  {
   "attachments": {},
   "cell_type": "markdown",
   "id": "patent-jonathan",
   "metadata": {},
   "source": [
    "#### Ejercicio 16\n",
    "\n",
    "¿Qué puedes decir acerca del precio por metro cuadrado (precio/m2) entre los municipios de 'Getafe' y 'Alcorcón'? (★★☆)\n",
    "\n",
    "> Debes usar el subset obtenido en la pregunta 13\n",
    ">\n",
    "> Pista: Crea una nueva columna llamada `pps` (price per square en inglés) y luego analiza los valores"
   ]
  },
  {
   "metadata": {
    "ExecuteTime": {
     "end_time": "2025-10-02T11:37:10.042019Z",
     "start_time": "2025-10-02T11:37:10.031991Z"
    }
   },
   "cell_type": "code",
   "source": [
    "# Crear una copia del subset porque saltaba un warning\n",
    "subset_cinturon_sur = subset_cinturon_sur.copy()\n",
    "\n",
    "# Crear nueva columna: precio por metro cuadrado\n",
    "subset_cinturon_sur[\"pps\"] = subset_cinturon_sur[\"price\"] / subset_cinturon_sur[\"surface\"]\n",
    "\n",
    "# Calcular la media del pps en Getafe y Alcorcón\n",
    "pps_promedio = subset_cinturon_sur[\n",
    "    subset_cinturon_sur[\"level5\"].isin([\"Getafe\", \"Alcorcón\"])\n",
    "].groupby(\"level5\")[\"pps\"].mean()\n",
    "pps_promedio"
   ],
   "id": "78d8dd6ef1381cad",
   "outputs": [
    {
     "data": {
      "text/plain": [
       "level5\n",
       "Alcorcón    2239.302480\n",
       "Getafe      2066.314949\n",
       "Name: pps, dtype: float64"
      ]
     },
     "execution_count": 35,
     "metadata": {},
     "output_type": "execute_result"
    }
   ],
   "execution_count": 35
  },
  {
   "cell_type": "code",
   "id": "initial-liverpool",
   "metadata": {},
   "source": [
    "# Crear una copia del subset porque saltaba un warning\n",
    "subset_cinturon_sur = subset_cinturon_sur.copy()\n",
    "\n",
    "# Crear nueva columna: precio por metro cuadrado\n",
    "subset_cinturon_sur[\"pps\"] = subset_cinturon_sur[\"price\"] / subset_cinturon_sur[\"surface\"]\n",
    "\n",
    "# Calcular la media del pps en Getafe y Alcorcón\n",
    "pps_promedio = subset_cinturon_sur[subset_cinturon_sur[\"level5\"].isin([\"Getafe\", \"Alcorcón\"])] \\\n",
    "    .groupby(\"level5\")[\"pps\"].mean()\n",
    "\n",
    "# Mostrar resultados\n",
    "print(\"Precio por metro cuadrado (€/m2):\\n\")\n",
    "print(pps_promedio)"
   ],
   "outputs": [],
   "execution_count": null
  },
  {
   "cell_type": "markdown",
   "id": "77f4fb6b000f9e0b",
   "metadata": {},
   "source": [
    "## Conclusiones"
   ]
  },
  {
   "cell_type": "markdown",
   "id": "d68570bb7b80a83e",
   "metadata": {},
   "source": [
    "#### Ejercicio 17\n",
    "\n",
    "Escribe aquí tus conclusiones acerca de este proyecto"
   ]
  }
 ],
 "metadata": {
  "kernelspec": {
   "display_name": "Python 3",
   "language": "python",
   "name": "python3"
  },
  "language_info": {
   "codemirror_mode": {
    "name": "ipython",
    "version": 3
   },
   "file_extension": ".py",
   "mimetype": "text/x-python",
   "name": "python",
   "nbconvert_exporter": "python",
   "pygments_lexer": "ipython3",
   "version": "3.11.3"
  }
 },
 "nbformat": 4,
 "nbformat_minor": 5
}
