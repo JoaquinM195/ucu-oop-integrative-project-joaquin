{
 "cells": [
  {
   "attachments": {},
   "cell_type": "markdown",
   "id": "innocent-university",
   "metadata": {},
   "source": [
    "# Limpieza del dataset de bienes raíces\n",
    "\n",
    "Este es un conjunto de datos (dataset) reales que fue descargado usando técnicas de web scraping. El archivo contiene registros de **Fotocasa**, el cual es uno de los sitios más populares de bienes raíces en España. Contiene miles de datos de casas reales publicadas en la web www.fotocasa.com.\n",
    "\n",
    "El dataset fue descargado hace algunos años y en ningún caso se obtuvo beneficio económico de ello.\n",
    "\n",
    "Tu objetivo es extraer tanta información como sea posible con el conocimiento que tienes hasta ahora de ciencia de datos."
   ]
  },
  {
   "cell_type": "code",
   "id": "frank-heath",
   "metadata": {
    "ExecuteTime": {
     "end_time": "2025-09-30T19:39:58.858685Z",
     "start_time": "2025-09-30T19:39:58.856049Z"
    }
   },
   "source": [
    "import pandas as pd\n",
    "import numpy as np"
   ],
   "outputs": [],
   "execution_count": 5
  },
  {
   "cell_type": "markdown",
   "id": "5807eba1fce08a86",
   "metadata": {},
   "source": [
    "#### Ejercicio 00\n",
    "\n",
    "Lee el dataset data/real_estate.csv e intenta visualizar la tabla (★☆☆)"
   ]
  },
  {
   "cell_type": "code",
   "id": "82e7dea53f252c1c",
   "metadata": {
    "ExecuteTime": {
     "end_time": "2025-09-30T19:40:00.384946Z",
     "start_time": "2025-09-30T19:40:00.003270Z"
    }
   },
   "source": [
    "# Este archivo CSV contiene puntos y comas en lugar de comas como separadores\n",
    "df = pd.read_csv('../data/real_estate.csv', sep=';')\n",
    "df"
   ],
   "outputs": [
    {
     "data": {
      "text/plain": [
       "       Unnamed: 0  id_realEstates  isNew                    realEstate_name  \\\n",
       "0               1       153771986  False            ferrari 57 inmobiliaria   \n",
       "1               2       153867863  False  tecnocasa fuenlabrada ferrocarril   \n",
       "2               3       153430440  False                 look find boadilla   \n",
       "3               4       152776331  False  tecnocasa fuenlabrada ferrocarril   \n",
       "4               5       153180188  False            ferrari 57 inmobiliaria   \n",
       "...           ...             ...    ...                                ...   \n",
       "15330       15331       153901377  False                infocasa consulting   \n",
       "15331       15332       150394373  False                inmobiliaria pulpon   \n",
       "15332       15333       153901397  False             tecnocasa torrelodones   \n",
       "15333       15334       152607440  False                inmobiliaria pulpon   \n",
       "15334       15335       153901356  False                infocasa consulting   \n",
       "\n",
       "       phone_realEstate                                       url_inmueble  \\\n",
       "0           912177526.0  https://www.fotocasa.es/es/comprar/vivienda/ma...   \n",
       "1           916358736.0  https://www.fotocasa.es/es/comprar/vivienda/ma...   \n",
       "2           916350408.0  https://www.fotocasa.es/es/comprar/vivienda/ma...   \n",
       "3           916358736.0  https://www.fotocasa.es/es/comprar/vivienda/ma...   \n",
       "4           912177526.0  https://www.fotocasa.es/es/comprar/vivienda/ma...   \n",
       "...                 ...                                                ...   \n",
       "15330       911360461.0  https://www.fotocasa.es/es/comprar/vivienda/ma...   \n",
       "15331       912788039.0  https://www.fotocasa.es/es/comprar/vivienda/ma...   \n",
       "15332       912780348.0  https://www.fotocasa.es/es/comprar/vivienda/ma...   \n",
       "15333       912788039.0  https://www.fotocasa.es/es/comprar/vivienda/ma...   \n",
       "15334       911360461.0  https://www.fotocasa.es/es/comprar/vivienda/ma...   \n",
       "\n",
       "       rooms  bathrooms  surface   price  ... level4Id level5Id level6Id  \\\n",
       "0        3.0        2.0    103.0  195000  ...        0        0        0   \n",
       "1        3.0        1.0      NaN   89000  ...        0        0        0   \n",
       "2        2.0        2.0     99.0  390000  ...        0        0        0   \n",
       "3        3.0        1.0     86.0   89000  ...        0        0        0   \n",
       "4        2.0        2.0    106.0  172000  ...        0        0        0   \n",
       "...      ...        ...      ...     ...  ...      ...      ...      ...   \n",
       "15330    2.0        1.0     96.0  259470  ...        0        0        0   \n",
       "15331    3.0        1.0    150.0  165000  ...        0        0        0   \n",
       "15332    4.0        2.0    175.0  495000  ...        0        0        0   \n",
       "15333    3.0        2.0    101.0  195000  ...        0        0        0   \n",
       "15334    3.0        2.0    152.0  765000  ...        0        0        0   \n",
       "\n",
       "      level7Id level8Id accuracy          latitude          longitude zipCode  \\\n",
       "0            0        0        0  40,2948276786438  -3,44402412135624     NaN   \n",
       "1            0        0        1          40,28674           -3,79351     NaN   \n",
       "2            0        0        0  40,4115646786438  -3,90662252135624     NaN   \n",
       "3            0        0        0  40,2853785786438  -3,79508142135624     NaN   \n",
       "4            0        0        0  40,2998774864376  -3,45226301356237     NaN   \n",
       "...        ...      ...      ...               ...                ...     ...   \n",
       "15330        0        0        0          40,45416           -3,70286     NaN   \n",
       "15331        0        0        0          40,36652           -3,48951     NaN   \n",
       "15332        0        0        0          40,57444           -3,92124     NaN   \n",
       "15333        0        0        0          40,36967           -3,48105     NaN   \n",
       "15334        0        0        0          40,45773           -3,69068     NaN   \n",
       "\n",
       "      customZone  \n",
       "0            NaN  \n",
       "1            NaN  \n",
       "2            NaN  \n",
       "3            NaN  \n",
       "4            NaN  \n",
       "...          ...  \n",
       "15330        NaN  \n",
       "15331        NaN  \n",
       "15332        NaN  \n",
       "15333        NaN  \n",
       "15334        NaN  \n",
       "\n",
       "[15335 rows x 37 columns]"
      ],
      "text/html": [
       "<div>\n",
       "<style scoped>\n",
       "    .dataframe tbody tr th:only-of-type {\n",
       "        vertical-align: middle;\n",
       "    }\n",
       "\n",
       "    .dataframe tbody tr th {\n",
       "        vertical-align: top;\n",
       "    }\n",
       "\n",
       "    .dataframe thead th {\n",
       "        text-align: right;\n",
       "    }\n",
       "</style>\n",
       "<table border=\"1\" class=\"dataframe\">\n",
       "  <thead>\n",
       "    <tr style=\"text-align: right;\">\n",
       "      <th></th>\n",
       "      <th>Unnamed: 0</th>\n",
       "      <th>id_realEstates</th>\n",
       "      <th>isNew</th>\n",
       "      <th>realEstate_name</th>\n",
       "      <th>phone_realEstate</th>\n",
       "      <th>url_inmueble</th>\n",
       "      <th>rooms</th>\n",
       "      <th>bathrooms</th>\n",
       "      <th>surface</th>\n",
       "      <th>price</th>\n",
       "      <th>...</th>\n",
       "      <th>level4Id</th>\n",
       "      <th>level5Id</th>\n",
       "      <th>level6Id</th>\n",
       "      <th>level7Id</th>\n",
       "      <th>level8Id</th>\n",
       "      <th>accuracy</th>\n",
       "      <th>latitude</th>\n",
       "      <th>longitude</th>\n",
       "      <th>zipCode</th>\n",
       "      <th>customZone</th>\n",
       "    </tr>\n",
       "  </thead>\n",
       "  <tbody>\n",
       "    <tr>\n",
       "      <th>0</th>\n",
       "      <td>1</td>\n",
       "      <td>153771986</td>\n",
       "      <td>False</td>\n",
       "      <td>ferrari 57 inmobiliaria</td>\n",
       "      <td>912177526.0</td>\n",
       "      <td>https://www.fotocasa.es/es/comprar/vivienda/ma...</td>\n",
       "      <td>3.0</td>\n",
       "      <td>2.0</td>\n",
       "      <td>103.0</td>\n",
       "      <td>195000</td>\n",
       "      <td>...</td>\n",
       "      <td>0</td>\n",
       "      <td>0</td>\n",
       "      <td>0</td>\n",
       "      <td>0</td>\n",
       "      <td>0</td>\n",
       "      <td>0</td>\n",
       "      <td>40,2948276786438</td>\n",
       "      <td>-3,44402412135624</td>\n",
       "      <td>NaN</td>\n",
       "      <td>NaN</td>\n",
       "    </tr>\n",
       "    <tr>\n",
       "      <th>1</th>\n",
       "      <td>2</td>\n",
       "      <td>153867863</td>\n",
       "      <td>False</td>\n",
       "      <td>tecnocasa fuenlabrada ferrocarril</td>\n",
       "      <td>916358736.0</td>\n",
       "      <td>https://www.fotocasa.es/es/comprar/vivienda/ma...</td>\n",
       "      <td>3.0</td>\n",
       "      <td>1.0</td>\n",
       "      <td>NaN</td>\n",
       "      <td>89000</td>\n",
       "      <td>...</td>\n",
       "      <td>0</td>\n",
       "      <td>0</td>\n",
       "      <td>0</td>\n",
       "      <td>0</td>\n",
       "      <td>0</td>\n",
       "      <td>1</td>\n",
       "      <td>40,28674</td>\n",
       "      <td>-3,79351</td>\n",
       "      <td>NaN</td>\n",
       "      <td>NaN</td>\n",
       "    </tr>\n",
       "    <tr>\n",
       "      <th>2</th>\n",
       "      <td>3</td>\n",
       "      <td>153430440</td>\n",
       "      <td>False</td>\n",
       "      <td>look find boadilla</td>\n",
       "      <td>916350408.0</td>\n",
       "      <td>https://www.fotocasa.es/es/comprar/vivienda/ma...</td>\n",
       "      <td>2.0</td>\n",
       "      <td>2.0</td>\n",
       "      <td>99.0</td>\n",
       "      <td>390000</td>\n",
       "      <td>...</td>\n",
       "      <td>0</td>\n",
       "      <td>0</td>\n",
       "      <td>0</td>\n",
       "      <td>0</td>\n",
       "      <td>0</td>\n",
       "      <td>0</td>\n",
       "      <td>40,4115646786438</td>\n",
       "      <td>-3,90662252135624</td>\n",
       "      <td>NaN</td>\n",
       "      <td>NaN</td>\n",
       "    </tr>\n",
       "    <tr>\n",
       "      <th>3</th>\n",
       "      <td>4</td>\n",
       "      <td>152776331</td>\n",
       "      <td>False</td>\n",
       "      <td>tecnocasa fuenlabrada ferrocarril</td>\n",
       "      <td>916358736.0</td>\n",
       "      <td>https://www.fotocasa.es/es/comprar/vivienda/ma...</td>\n",
       "      <td>3.0</td>\n",
       "      <td>1.0</td>\n",
       "      <td>86.0</td>\n",
       "      <td>89000</td>\n",
       "      <td>...</td>\n",
       "      <td>0</td>\n",
       "      <td>0</td>\n",
       "      <td>0</td>\n",
       "      <td>0</td>\n",
       "      <td>0</td>\n",
       "      <td>0</td>\n",
       "      <td>40,2853785786438</td>\n",
       "      <td>-3,79508142135624</td>\n",
       "      <td>NaN</td>\n",
       "      <td>NaN</td>\n",
       "    </tr>\n",
       "    <tr>\n",
       "      <th>4</th>\n",
       "      <td>5</td>\n",
       "      <td>153180188</td>\n",
       "      <td>False</td>\n",
       "      <td>ferrari 57 inmobiliaria</td>\n",
       "      <td>912177526.0</td>\n",
       "      <td>https://www.fotocasa.es/es/comprar/vivienda/ma...</td>\n",
       "      <td>2.0</td>\n",
       "      <td>2.0</td>\n",
       "      <td>106.0</td>\n",
       "      <td>172000</td>\n",
       "      <td>...</td>\n",
       "      <td>0</td>\n",
       "      <td>0</td>\n",
       "      <td>0</td>\n",
       "      <td>0</td>\n",
       "      <td>0</td>\n",
       "      <td>0</td>\n",
       "      <td>40,2998774864376</td>\n",
       "      <td>-3,45226301356237</td>\n",
       "      <td>NaN</td>\n",
       "      <td>NaN</td>\n",
       "    </tr>\n",
       "    <tr>\n",
       "      <th>...</th>\n",
       "      <td>...</td>\n",
       "      <td>...</td>\n",
       "      <td>...</td>\n",
       "      <td>...</td>\n",
       "      <td>...</td>\n",
       "      <td>...</td>\n",
       "      <td>...</td>\n",
       "      <td>...</td>\n",
       "      <td>...</td>\n",
       "      <td>...</td>\n",
       "      <td>...</td>\n",
       "      <td>...</td>\n",
       "      <td>...</td>\n",
       "      <td>...</td>\n",
       "      <td>...</td>\n",
       "      <td>...</td>\n",
       "      <td>...</td>\n",
       "      <td>...</td>\n",
       "      <td>...</td>\n",
       "      <td>...</td>\n",
       "      <td>...</td>\n",
       "    </tr>\n",
       "    <tr>\n",
       "      <th>15330</th>\n",
       "      <td>15331</td>\n",
       "      <td>153901377</td>\n",
       "      <td>False</td>\n",
       "      <td>infocasa consulting</td>\n",
       "      <td>911360461.0</td>\n",
       "      <td>https://www.fotocasa.es/es/comprar/vivienda/ma...</td>\n",
       "      <td>2.0</td>\n",
       "      <td>1.0</td>\n",
       "      <td>96.0</td>\n",
       "      <td>259470</td>\n",
       "      <td>...</td>\n",
       "      <td>0</td>\n",
       "      <td>0</td>\n",
       "      <td>0</td>\n",
       "      <td>0</td>\n",
       "      <td>0</td>\n",
       "      <td>0</td>\n",
       "      <td>40,45416</td>\n",
       "      <td>-3,70286</td>\n",
       "      <td>NaN</td>\n",
       "      <td>NaN</td>\n",
       "    </tr>\n",
       "    <tr>\n",
       "      <th>15331</th>\n",
       "      <td>15332</td>\n",
       "      <td>150394373</td>\n",
       "      <td>False</td>\n",
       "      <td>inmobiliaria pulpon</td>\n",
       "      <td>912788039.0</td>\n",
       "      <td>https://www.fotocasa.es/es/comprar/vivienda/ma...</td>\n",
       "      <td>3.0</td>\n",
       "      <td>1.0</td>\n",
       "      <td>150.0</td>\n",
       "      <td>165000</td>\n",
       "      <td>...</td>\n",
       "      <td>0</td>\n",
       "      <td>0</td>\n",
       "      <td>0</td>\n",
       "      <td>0</td>\n",
       "      <td>0</td>\n",
       "      <td>0</td>\n",
       "      <td>40,36652</td>\n",
       "      <td>-3,48951</td>\n",
       "      <td>NaN</td>\n",
       "      <td>NaN</td>\n",
       "    </tr>\n",
       "    <tr>\n",
       "      <th>15332</th>\n",
       "      <td>15333</td>\n",
       "      <td>153901397</td>\n",
       "      <td>False</td>\n",
       "      <td>tecnocasa torrelodones</td>\n",
       "      <td>912780348.0</td>\n",
       "      <td>https://www.fotocasa.es/es/comprar/vivienda/ma...</td>\n",
       "      <td>4.0</td>\n",
       "      <td>2.0</td>\n",
       "      <td>175.0</td>\n",
       "      <td>495000</td>\n",
       "      <td>...</td>\n",
       "      <td>0</td>\n",
       "      <td>0</td>\n",
       "      <td>0</td>\n",
       "      <td>0</td>\n",
       "      <td>0</td>\n",
       "      <td>0</td>\n",
       "      <td>40,57444</td>\n",
       "      <td>-3,92124</td>\n",
       "      <td>NaN</td>\n",
       "      <td>NaN</td>\n",
       "    </tr>\n",
       "    <tr>\n",
       "      <th>15333</th>\n",
       "      <td>15334</td>\n",
       "      <td>152607440</td>\n",
       "      <td>False</td>\n",
       "      <td>inmobiliaria pulpon</td>\n",
       "      <td>912788039.0</td>\n",
       "      <td>https://www.fotocasa.es/es/comprar/vivienda/ma...</td>\n",
       "      <td>3.0</td>\n",
       "      <td>2.0</td>\n",
       "      <td>101.0</td>\n",
       "      <td>195000</td>\n",
       "      <td>...</td>\n",
       "      <td>0</td>\n",
       "      <td>0</td>\n",
       "      <td>0</td>\n",
       "      <td>0</td>\n",
       "      <td>0</td>\n",
       "      <td>0</td>\n",
       "      <td>40,36967</td>\n",
       "      <td>-3,48105</td>\n",
       "      <td>NaN</td>\n",
       "      <td>NaN</td>\n",
       "    </tr>\n",
       "    <tr>\n",
       "      <th>15334</th>\n",
       "      <td>15335</td>\n",
       "      <td>153901356</td>\n",
       "      <td>False</td>\n",
       "      <td>infocasa consulting</td>\n",
       "      <td>911360461.0</td>\n",
       "      <td>https://www.fotocasa.es/es/comprar/vivienda/ma...</td>\n",
       "      <td>3.0</td>\n",
       "      <td>2.0</td>\n",
       "      <td>152.0</td>\n",
       "      <td>765000</td>\n",
       "      <td>...</td>\n",
       "      <td>0</td>\n",
       "      <td>0</td>\n",
       "      <td>0</td>\n",
       "      <td>0</td>\n",
       "      <td>0</td>\n",
       "      <td>0</td>\n",
       "      <td>40,45773</td>\n",
       "      <td>-3,69068</td>\n",
       "      <td>NaN</td>\n",
       "      <td>NaN</td>\n",
       "    </tr>\n",
       "  </tbody>\n",
       "</table>\n",
       "<p>15335 rows × 37 columns</p>\n",
       "</div>"
      ]
     },
     "execution_count": 6,
     "metadata": {},
     "output_type": "execute_result"
    }
   ],
   "execution_count": 6
  },
  {
   "metadata": {
    "ExecuteTime": {
     "end_time": "2025-09-30T19:40:01.207144Z",
     "start_time": "2025-09-30T19:40:01.190485Z"
    }
   },
   "cell_type": "code",
   "source": "df.head()",
   "id": "481b564a4b06c9b9",
   "outputs": [
    {
     "data": {
      "text/plain": [
       "   Unnamed: 0  id_realEstates  isNew                    realEstate_name  \\\n",
       "0           1       153771986  False            ferrari 57 inmobiliaria   \n",
       "1           2       153867863  False  tecnocasa fuenlabrada ferrocarril   \n",
       "2           3       153430440  False                 look find boadilla   \n",
       "3           4       152776331  False  tecnocasa fuenlabrada ferrocarril   \n",
       "4           5       153180188  False            ferrari 57 inmobiliaria   \n",
       "\n",
       "   phone_realEstate                                       url_inmueble  rooms  \\\n",
       "0       912177526.0  https://www.fotocasa.es/es/comprar/vivienda/ma...    3.0   \n",
       "1       916358736.0  https://www.fotocasa.es/es/comprar/vivienda/ma...    3.0   \n",
       "2       916350408.0  https://www.fotocasa.es/es/comprar/vivienda/ma...    2.0   \n",
       "3       916358736.0  https://www.fotocasa.es/es/comprar/vivienda/ma...    3.0   \n",
       "4       912177526.0  https://www.fotocasa.es/es/comprar/vivienda/ma...    2.0   \n",
       "\n",
       "   bathrooms  surface   price  ... level4Id level5Id level6Id level7Id  \\\n",
       "0        2.0    103.0  195000  ...        0        0        0        0   \n",
       "1        1.0      NaN   89000  ...        0        0        0        0   \n",
       "2        2.0     99.0  390000  ...        0        0        0        0   \n",
       "3        1.0     86.0   89000  ...        0        0        0        0   \n",
       "4        2.0    106.0  172000  ...        0        0        0        0   \n",
       "\n",
       "  level8Id accuracy          latitude          longitude zipCode customZone  \n",
       "0        0        0  40,2948276786438  -3,44402412135624     NaN        NaN  \n",
       "1        0        1          40,28674           -3,79351     NaN        NaN  \n",
       "2        0        0  40,4115646786438  -3,90662252135624     NaN        NaN  \n",
       "3        0        0  40,2853785786438  -3,79508142135624     NaN        NaN  \n",
       "4        0        0  40,2998774864376  -3,45226301356237     NaN        NaN  \n",
       "\n",
       "[5 rows x 37 columns]"
      ],
      "text/html": [
       "<div>\n",
       "<style scoped>\n",
       "    .dataframe tbody tr th:only-of-type {\n",
       "        vertical-align: middle;\n",
       "    }\n",
       "\n",
       "    .dataframe tbody tr th {\n",
       "        vertical-align: top;\n",
       "    }\n",
       "\n",
       "    .dataframe thead th {\n",
       "        text-align: right;\n",
       "    }\n",
       "</style>\n",
       "<table border=\"1\" class=\"dataframe\">\n",
       "  <thead>\n",
       "    <tr style=\"text-align: right;\">\n",
       "      <th></th>\n",
       "      <th>Unnamed: 0</th>\n",
       "      <th>id_realEstates</th>\n",
       "      <th>isNew</th>\n",
       "      <th>realEstate_name</th>\n",
       "      <th>phone_realEstate</th>\n",
       "      <th>url_inmueble</th>\n",
       "      <th>rooms</th>\n",
       "      <th>bathrooms</th>\n",
       "      <th>surface</th>\n",
       "      <th>price</th>\n",
       "      <th>...</th>\n",
       "      <th>level4Id</th>\n",
       "      <th>level5Id</th>\n",
       "      <th>level6Id</th>\n",
       "      <th>level7Id</th>\n",
       "      <th>level8Id</th>\n",
       "      <th>accuracy</th>\n",
       "      <th>latitude</th>\n",
       "      <th>longitude</th>\n",
       "      <th>zipCode</th>\n",
       "      <th>customZone</th>\n",
       "    </tr>\n",
       "  </thead>\n",
       "  <tbody>\n",
       "    <tr>\n",
       "      <th>0</th>\n",
       "      <td>1</td>\n",
       "      <td>153771986</td>\n",
       "      <td>False</td>\n",
       "      <td>ferrari 57 inmobiliaria</td>\n",
       "      <td>912177526.0</td>\n",
       "      <td>https://www.fotocasa.es/es/comprar/vivienda/ma...</td>\n",
       "      <td>3.0</td>\n",
       "      <td>2.0</td>\n",
       "      <td>103.0</td>\n",
       "      <td>195000</td>\n",
       "      <td>...</td>\n",
       "      <td>0</td>\n",
       "      <td>0</td>\n",
       "      <td>0</td>\n",
       "      <td>0</td>\n",
       "      <td>0</td>\n",
       "      <td>0</td>\n",
       "      <td>40,2948276786438</td>\n",
       "      <td>-3,44402412135624</td>\n",
       "      <td>NaN</td>\n",
       "      <td>NaN</td>\n",
       "    </tr>\n",
       "    <tr>\n",
       "      <th>1</th>\n",
       "      <td>2</td>\n",
       "      <td>153867863</td>\n",
       "      <td>False</td>\n",
       "      <td>tecnocasa fuenlabrada ferrocarril</td>\n",
       "      <td>916358736.0</td>\n",
       "      <td>https://www.fotocasa.es/es/comprar/vivienda/ma...</td>\n",
       "      <td>3.0</td>\n",
       "      <td>1.0</td>\n",
       "      <td>NaN</td>\n",
       "      <td>89000</td>\n",
       "      <td>...</td>\n",
       "      <td>0</td>\n",
       "      <td>0</td>\n",
       "      <td>0</td>\n",
       "      <td>0</td>\n",
       "      <td>0</td>\n",
       "      <td>1</td>\n",
       "      <td>40,28674</td>\n",
       "      <td>-3,79351</td>\n",
       "      <td>NaN</td>\n",
       "      <td>NaN</td>\n",
       "    </tr>\n",
       "    <tr>\n",
       "      <th>2</th>\n",
       "      <td>3</td>\n",
       "      <td>153430440</td>\n",
       "      <td>False</td>\n",
       "      <td>look find boadilla</td>\n",
       "      <td>916350408.0</td>\n",
       "      <td>https://www.fotocasa.es/es/comprar/vivienda/ma...</td>\n",
       "      <td>2.0</td>\n",
       "      <td>2.0</td>\n",
       "      <td>99.0</td>\n",
       "      <td>390000</td>\n",
       "      <td>...</td>\n",
       "      <td>0</td>\n",
       "      <td>0</td>\n",
       "      <td>0</td>\n",
       "      <td>0</td>\n",
       "      <td>0</td>\n",
       "      <td>0</td>\n",
       "      <td>40,4115646786438</td>\n",
       "      <td>-3,90662252135624</td>\n",
       "      <td>NaN</td>\n",
       "      <td>NaN</td>\n",
       "    </tr>\n",
       "    <tr>\n",
       "      <th>3</th>\n",
       "      <td>4</td>\n",
       "      <td>152776331</td>\n",
       "      <td>False</td>\n",
       "      <td>tecnocasa fuenlabrada ferrocarril</td>\n",
       "      <td>916358736.0</td>\n",
       "      <td>https://www.fotocasa.es/es/comprar/vivienda/ma...</td>\n",
       "      <td>3.0</td>\n",
       "      <td>1.0</td>\n",
       "      <td>86.0</td>\n",
       "      <td>89000</td>\n",
       "      <td>...</td>\n",
       "      <td>0</td>\n",
       "      <td>0</td>\n",
       "      <td>0</td>\n",
       "      <td>0</td>\n",
       "      <td>0</td>\n",
       "      <td>0</td>\n",
       "      <td>40,2853785786438</td>\n",
       "      <td>-3,79508142135624</td>\n",
       "      <td>NaN</td>\n",
       "      <td>NaN</td>\n",
       "    </tr>\n",
       "    <tr>\n",
       "      <th>4</th>\n",
       "      <td>5</td>\n",
       "      <td>153180188</td>\n",
       "      <td>False</td>\n",
       "      <td>ferrari 57 inmobiliaria</td>\n",
       "      <td>912177526.0</td>\n",
       "      <td>https://www.fotocasa.es/es/comprar/vivienda/ma...</td>\n",
       "      <td>2.0</td>\n",
       "      <td>2.0</td>\n",
       "      <td>106.0</td>\n",
       "      <td>172000</td>\n",
       "      <td>...</td>\n",
       "      <td>0</td>\n",
       "      <td>0</td>\n",
       "      <td>0</td>\n",
       "      <td>0</td>\n",
       "      <td>0</td>\n",
       "      <td>0</td>\n",
       "      <td>40,2998774864376</td>\n",
       "      <td>-3,45226301356237</td>\n",
       "      <td>NaN</td>\n",
       "      <td>NaN</td>\n",
       "    </tr>\n",
       "  </tbody>\n",
       "</table>\n",
       "<p>5 rows × 37 columns</p>\n",
       "</div>"
      ]
     },
     "execution_count": 7,
     "metadata": {},
     "output_type": "execute_result"
    }
   ],
   "execution_count": 7
  },
  {
   "cell_type": "markdown",
   "id": "9670bfd13cfca1e7",
   "metadata": {},
   "source": [
    "## Trabajando con un DataFrame"
   ]
  },
  {
   "attachments": {},
   "cell_type": "markdown",
   "id": "latin-guest",
   "metadata": {},
   "source": [
    "#### Ejercicio 01\n",
    "\n",
    "¿Cuál es la casa más cara del dataset? (★☆☆)\n",
    "\n",
    "Imprime la dirección y el precio de la casa seleccionada. Para visualizar el resultado utiliza un f-string. Por ejemplo:\n",
    "\n",
    "```py\n",
    "f'La casa más cara se encuentra en la dirección: {address} y su precio es {price} €'\n",
    "```"
   ]
  },
  {
   "cell_type": "code",
   "id": "developing-optimum",
   "metadata": {
    "ExecuteTime": {
     "end_time": "2025-09-30T19:40:35.812858Z",
     "start_time": "2025-09-30T19:40:35.802730Z"
    }
   },
   "source": [
    "\n",
    "# Encontrar la fila con el precio mínimo\n",
    "fila_max = df.loc[df[\"price\"].idxmax()]\n",
    "\n",
    "# Extraer la dirección y el precio\n",
    "direccion = fila_max[\"address\"]\n",
    "precio = fila_max[\"price\"]\n",
    "\n",
    "# Retornar el resultado con f-string\n",
    "f\"La casa más cara se encuentra en la dirección: {direccion} y su precio es €{precio}\""
   ],
   "outputs": [
    {
     "data": {
      "text/plain": [
       "'La casa más cara se encuentra en la dirección: El Escorial y su precio es €8500000'"
      ]
     },
     "execution_count": 9,
     "metadata": {},
     "output_type": "execute_result"
    }
   ],
   "execution_count": 9
  },
  {
   "attachments": {},
   "cell_type": "markdown",
   "id": "lesser-cosmetic",
   "metadata": {},
   "source": [
    "#### Ejercicio 02\n",
    "\n",
    "¿Cuál es la casa más barata del dataset? (★☆☆)\n",
    "\n",
    "Imprime la dirección y el precio de la casa seleccionada utilizando f-string"
   ]
  },
  {
   "cell_type": "code",
   "id": "lovely-oasis",
   "metadata": {
    "ExecuteTime": {
     "end_time": "2025-09-30T19:40:38.214004Z",
     "start_time": "2025-09-30T19:40:38.194644Z"
    }
   },
   "source": [
    "\n",
    "# Filtrar las filas con precio distinto de 0\n",
    "df_filtrado = df[df[\"price\"] != 0]\n",
    "\n",
    "# Encontrar la fila con el precio mínimo (sin contar los ceros)\n",
    "fila_min = df_filtrado.loc[df_filtrado[\"price\"].idxmin()]\n",
    "\n",
    "# Extraer la dirección y el precio\n",
    "direccion = fila_min[\"address\"]\n",
    "precio = fila_min[\"price\"]\n",
    "\n",
    "# Retornar el resultado con f-string\n",
    "f\"La casa más barata se encuentra en la dirección: {direccion} y su precio es €{precio}\"\n"
   ],
   "outputs": [
    {
     "data": {
      "text/plain": [
       "'La casa más barata se encuentra en la dirección: Berlin, Coslada y su precio es €600'"
      ]
     },
     "execution_count": 10,
     "metadata": {},
     "output_type": "execute_result"
    }
   ],
   "execution_count": 10
  },
  {
   "attachments": {},
   "cell_type": "markdown",
   "id": "compliant-fellowship",
   "metadata": {},
   "source": [
    "#### Ejercicio 03\n",
    "\n",
    "¿Cuál es la casa más grande del dataset? (★☆☆)\n",
    "\n",
    "Imprime la dirección y el área de las casas seleccionadas utilizando f-string"
   ]
  },
  {
   "metadata": {
    "ExecuteTime": {
     "end_time": "2025-09-30T19:40:41.108102Z",
     "start_time": "2025-09-30T19:40:41.102629Z"
    }
   },
   "cell_type": "code",
   "source": "df['surface'].dtypes",
   "id": "ad544057e84233f9",
   "outputs": [
    {
     "data": {
      "text/plain": [
       "dtype('float64')"
      ]
     },
     "execution_count": 11,
     "metadata": {},
     "output_type": "execute_result"
    }
   ],
   "execution_count": 11
  },
  {
   "metadata": {
    "ExecuteTime": {
     "end_time": "2025-09-30T19:40:42.269501Z",
     "start_time": "2025-09-30T19:40:42.257792Z"
    }
   },
   "cell_type": "code",
   "source": [
    "surface_max = df.loc[df[\"surface\"].idxmax()]\n",
    "surface_max"
   ],
   "id": "60619308ef6bb85d",
   "outputs": [
    {
     "data": {
      "text/plain": [
       "Unnamed: 0                                                       6795\n",
       "id_realEstates                                              153936192\n",
       "isNew                                                           False\n",
       "realEstate_name                               habitarium inmobiliaria\n",
       "phone_realEstate                                          916357732.0\n",
       "url_inmueble        https://www.fotocasa.es/es/comprar/vivienda/ma...\n",
       "rooms                                                             3.0\n",
       "bathrooms                                                         2.0\n",
       "surface                                                      249000.0\n",
       "price                                                          289000\n",
       "date                                             2019-12-25T18:30:00Z\n",
       "description         Zona Centro. Chalet pareado de esquina de 249m...\n",
       "address                                              Sevilla la Nueva\n",
       "country                                                        España\n",
       "level1                                                         Madrid\n",
       "level2                                                         Madrid\n",
       "level3                                                  Zona Suroeste\n",
       "level4                                      Sevilla la Nueva, Zona de\n",
       "level5                                               Sevilla la Nueva\n",
       "level6                                                            NaN\n",
       "level7                                                            NaN\n",
       "level8                                                            NaN\n",
       "upperLevel                                           Sevilla la Nueva\n",
       "countryId                                                           0\n",
       "level1Id                                                            0\n",
       "level2Id                                                            0\n",
       "level3Id                                                            0\n",
       "level4Id                                                            0\n",
       "level5Id                                                            0\n",
       "level6Id                                                            0\n",
       "level7Id                                                            0\n",
       "level8Id                                                            0\n",
       "accuracy                                                            0\n",
       "latitude                                                     40,34633\n",
       "longitude                                                    -4,02174\n",
       "Name: 6794, dtype: object"
      ]
     },
     "execution_count": 12,
     "metadata": {},
     "output_type": "execute_result"
    }
   ],
   "execution_count": 12
  },
  {
   "metadata": {
    "ExecuteTime": {
     "end_time": "2025-09-30T19:40:49.497289Z",
     "start_time": "2025-09-30T19:40:49.483612Z"
    }
   },
   "cell_type": "code",
   "source": [
    "\n",
    "# Asegurar que 'surface' sea numérico y eliminar NA\n",
    "df[\"surface\"] = pd.to_numeric(df[\"surface\"], errors=\"coerce\")\n",
    "df = df.dropna(subset=[\"surface\"])\n",
    "\n",
    "# Posición de la casa más grande\n",
    "idx = np.argmax(df[\"surface\"].values)\n",
    "\n",
    "# Dirección y superficie\n",
    "direccion = df.iloc[idx][\"address\"]\n",
    "superficie = df.iloc[idx][\"surface\"]\n",
    "\n",
    "# Resultado\n",
    "f\"La casa más grande se encuentra en la dirección: {direccion} y su superficie es {superficie} m²\"\n"
   ],
   "id": "797ff1975103c097",
   "outputs": [
    {
     "data": {
      "text/plain": [
       "'La casa más grande se encuentra en la dirección: Sevilla la Nueva y su superficie es 249000.0 m²'"
      ]
     },
     "execution_count": 13,
     "metadata": {},
     "output_type": "execute_result"
    }
   ],
   "execution_count": 13
  },
  {
   "cell_type": "markdown",
   "id": "89afefb0b0eb970e",
   "metadata": {},
   "source": [
    "#### Ejercicio 04\n",
    "\n",
    "¿Cuál es la casa más pequeña del dataset? (★☆☆)"
   ]
  },
  {
   "metadata": {
    "ExecuteTime": {
     "end_time": "2025-09-30T19:40:51.677859Z",
     "start_time": "2025-09-30T19:40:51.671967Z"
    }
   },
   "cell_type": "code",
   "source": "df['surface'].dtypes",
   "id": "4182c1973530c068",
   "outputs": [
    {
     "data": {
      "text/plain": [
       "dtype('float64')"
      ]
     },
     "execution_count": 14,
     "metadata": {},
     "output_type": "execute_result"
    }
   ],
   "execution_count": 14
  },
  {
   "metadata": {
    "ExecuteTime": {
     "end_time": "2025-09-30T19:40:52.865207Z",
     "start_time": "2025-09-30T19:40:52.851518Z"
    }
   },
   "cell_type": "code",
   "source": [
    "surface_min = df.loc[df[\"surface\"].idxmin()]\n",
    "surface_min"
   ],
   "id": "65d3fbbbdfd4314e",
   "outputs": [
    {
     "data": {
      "text/plain": [
       "Unnamed: 0                                                        499\n",
       "id_realEstates                                              152817874\n",
       "isNew                                                           False\n",
       "realEstate_name                                              toledo21\n",
       "phone_realEstate                                          910757382.0\n",
       "url_inmueble        https://www.fotocasa.es/es/comprar/vivienda/ma...\n",
       "rooms                                                             1.0\n",
       "bathrooms                                                         1.0\n",
       "surface                                                          15.0\n",
       "price                                                           85000\n",
       "date                                     2019-12-28T19:04:44.6433814Z\n",
       "description         ¡NO BUSQUES MÁS, YA LA HAS ENCONTRADO! . \\n \\n...\n",
       "address                                 Calle Amparo,  Madrid Capital\n",
       "country                                                        España\n",
       "level1                                                         Madrid\n",
       "level2                                                         Madrid\n",
       "level3                                                Madrid, Zona de\n",
       "level4                                                            NaN\n",
       "level5                                                 Madrid Capital\n",
       "level6                                                            NaN\n",
       "level7                                                         Centro\n",
       "level8                                         Embajadores - Lavapiés\n",
       "upperLevel                                     Embajadores - Lavapiés\n",
       "countryId                                                           0\n",
       "level1Id                                                            0\n",
       "level2Id                                                            0\n",
       "level3Id                                                            0\n",
       "level4Id                                                            0\n",
       "level5Id                                                            0\n",
       "level6Id                                                            0\n",
       "level7Id                                                            0\n",
       "level8Id                                                            0\n",
       "accuracy                                                            0\n",
       "latitude                                                     40,40818\n",
       "longitude                                                    -3,70192\n",
       "Name: 498, dtype: object"
      ]
     },
     "execution_count": 15,
     "metadata": {},
     "output_type": "execute_result"
    }
   ],
   "execution_count": 15
  },
  {
   "cell_type": "code",
   "id": "every-tiffany",
   "metadata": {
    "ExecuteTime": {
     "end_time": "2025-09-30T19:40:55.936235Z",
     "start_time": "2025-09-30T19:40:55.911325Z"
    }
   },
   "source": [
    "\n",
    "# Asegurar que 'surface' sea numérico y eliminar NA\n",
    "df[\"surface\"] = pd.to_numeric(df[\"surface\"], errors=\"coerce\")\n",
    "df = df.dropna(subset=[\"surface\"])\n",
    "\n",
    "# Posición de la casa más pequeña\n",
    "idx = np.argmin(df[\"surface\"].values)\n",
    "\n",
    "# Dirección y superficie\n",
    "direccion = df.iloc[idx][\"address\"]\n",
    "superficie = df.iloc[idx][\"surface\"]\n",
    "\n",
    "# Resultado\n",
    "f\"La casa más pequeña se encuentra en la dirección: {direccion} y su superficie es {superficie} m²\""
   ],
   "outputs": [
    {
     "data": {
      "text/plain": [
       "'La casa más pequeña se encuentra en la dirección: Calle Amparo,  Madrid Capital y su superficie es 15.0 m²'"
      ]
     },
     "execution_count": 16,
     "metadata": {},
     "output_type": "execute_result"
    }
   ],
   "execution_count": 16
  },
  {
   "attachments": {},
   "cell_type": "markdown",
   "id": "crazy-blame",
   "metadata": {},
   "source": [
    "#### Ejercicio 05.\n",
    "\n",
    "¿El dataset contiene valores no admitidos (NAs)? (★☆☆)\n",
    "\n",
    "- Muestra el nombre de las filas seguidas por un booleano (`True` o `False`) según contengan o no contengan NAs.\n",
    "- También muestra el nombre de las columnas seguidas por un booleano (`True` o `False`) según contengan o no contengan NAs."
   ]
  },
  {
   "cell_type": "code",
   "id": "transparent-poetry",
   "metadata": {
    "ExecuteTime": {
     "end_time": "2025-09-30T20:06:15.427620Z",
     "start_time": "2025-09-30T20:06:15.400022Z"
    }
   },
   "source": [
    "\n",
    "class AnalisisNA:\n",
    "    def __init__(self, dataframe):\n",
    "        self.df = dataframe\n",
    "\n",
    "    def revisar_na(self):\n",
    "        result = {\"filas_con_na\": self.df.isna().any(axis=1),\n",
    "                  \"columnas_con_na\": self.df.isna().any()}\n",
    "        return result\n",
    "\n",
    "# Uso (ya tienes df cargado antes)\n",
    "analisis = AnalisisNA(df)\n",
    "analisis.revisar_na()"
   ],
   "outputs": [
    {
     "data": {
      "text/plain": [
       "{'filas_con_na': 0        True\n",
       " 2        True\n",
       " 3        True\n",
       " 4        True\n",
       " 5        True\n",
       "          ... \n",
       " 15330    True\n",
       " 15331    True\n",
       " 15332    True\n",
       " 15333    True\n",
       " 15334    True\n",
       " Length: 14085, dtype: bool,\n",
       " 'columnas_con_na': Unnamed: 0          False\n",
       " id_realEstates      False\n",
       " isNew               False\n",
       " realEstate_name      True\n",
       " phone_realEstate     True\n",
       " url_inmueble        False\n",
       " rooms                True\n",
       " bathrooms            True\n",
       " surface             False\n",
       " price               False\n",
       " date                False\n",
       " description          True\n",
       " address             False\n",
       " country             False\n",
       " level1              False\n",
       " level2              False\n",
       " level3              False\n",
       " level4               True\n",
       " level5              False\n",
       " level6               True\n",
       " level7               True\n",
       " level8               True\n",
       " upperLevel          False\n",
       " countryId           False\n",
       " level1Id            False\n",
       " level2Id            False\n",
       " level3Id            False\n",
       " level4Id            False\n",
       " level5Id            False\n",
       " level6Id            False\n",
       " level7Id            False\n",
       " level8Id            False\n",
       " accuracy            False\n",
       " latitude            False\n",
       " longitude           False\n",
       " pps                 False\n",
       " dtype: bool}"
      ]
     },
     "execution_count": 39,
     "metadata": {},
     "output_type": "execute_result"
    }
   ],
   "execution_count": 39
  },
  {
   "attachments": {},
   "cell_type": "markdown",
   "id": "italic-hydrogen",
   "metadata": {},
   "source": [
    "#### Ejercicio 06.\n",
    "\n",
    "Elimina los NAs del dataset, si aplica (★★☆)\n",
    "\n",
    "Muestra las dimensiones del DataFrame original y del DataFrame después de las eliminaciones."
   ]
  },
  {
   "cell_type": "code",
   "id": "administrative-roads",
   "metadata": {
    "ExecuteTime": {
     "end_time": "2025-09-30T19:40:22.532085Z",
     "start_time": "2025-09-30T19:40:22.516729Z"
    }
   },
   "source": [
    "# Dimensiones originales\n",
    "print(\"Dimensiones originales:\", df.shape)\n",
    "\n",
    "# Eliminar columnas zipCode y customZone\n",
    "df = df.drop(columns=[\"zipCode\", \"customZone\"], errors=\"ignore\")\n",
    "\n",
    "# Dimensiones después de eliminar\n",
    "print(\"Dimensiones sin zipCode y customZone:\", df.shape)"
   ],
   "outputs": [
    {
     "name": "stdout",
     "output_type": "stream",
     "text": [
      "Dimensiones originales: (15335, 37)\n",
      "Dimensiones sin zipCode y customZone: (15335, 35)\n"
     ]
    }
   ],
   "execution_count": 8
  },
  {
   "cell_type": "markdown",
   "id": "c00ce93f7105532e",
   "metadata": {},
   "source": [
    "#### Ejercicio 07\n",
    "\n",
    "¿Cuantas poblaciones (columna level5) contiene el dataset? (★☆☆)\n",
    "\n",
    "- Muestra una lista con los nombres de las poblaciones\n",
    "- Muestra el total de las mismas"
   ]
  },
  {
   "cell_type": "code",
   "id": "dd8aec62c12bd8db",
   "metadata": {
    "ExecuteTime": {
     "end_time": "2025-09-30T19:41:04.088297Z",
     "start_time": "2025-09-30T19:41:04.074523Z"
    }
   },
   "source": [
    "# Quitar NAs y valores duplicados\n",
    "poblaciones = df[\"level5\"].dropna().unique()\n",
    "\n",
    "# Convertir a lista con NumPy\n",
    "poblaciones = np.array(poblaciones).tolist()\n",
    "\n",
    "# Contar total\n",
    "total = len(poblaciones)\n",
    "\n",
    "poblaciones, total"
   ],
   "outputs": [
    {
     "data": {
      "text/plain": [
       "(['Arganda del Rey',\n",
       "  'Boadilla del Monte',\n",
       "  'Fuenlabrada',\n",
       "  'Las Rozas de Madrid',\n",
       "  ' Madrid Capital',\n",
       "  'Villaviciosa de Odón',\n",
       "  'Pinto',\n",
       "  'Valdemoro',\n",
       "  'Navalcarnero',\n",
       "  'Pozuelo de Alarcón',\n",
       "  'Torrejón de Ardoz',\n",
       "  'Navalagamella',\n",
       "  'San Sebastián de los Reyes',\n",
       "  'Rivas-vaciamadrid',\n",
       "  'Alpedrete',\n",
       "  'Móstoles',\n",
       "  'San Fernando de Henares',\n",
       "  'Coslada',\n",
       "  'Becerril de la Sierra',\n",
       "  'Alcalá de Henares',\n",
       "  'Chinchón',\n",
       "  'Parla',\n",
       "  'Alcorcón',\n",
       "  'El Escorial',\n",
       "  'Leganés',\n",
       "  'Pedrezuela',\n",
       "  'Majadahonda',\n",
       "  'Villanueva de la Cañada',\n",
       "  'Villanueva del Pardillo',\n",
       "  'Torrelodones',\n",
       "  'Moralzarzal',\n",
       "  'Mejorada del Campo',\n",
       "  'Aranjuez',\n",
       "  'Corpa',\n",
       "  'Getafe',\n",
       "  'Velilla de San Antonio',\n",
       "  'Sevilla la Nueva',\n",
       "  'San Martín de la Vega',\n",
       "  'Villalbilla',\n",
       "  'Collado Villalba',\n",
       "  'Alcobendas',\n",
       "  'El Molar (Madrid)',\n",
       "  'Moraleja de Enmedio',\n",
       "  'Algete',\n",
       "  'Campo Real',\n",
       "  'Torrejón de la Calzada',\n",
       "  'Colmenar Viejo',\n",
       "  'Valdemorillo',\n",
       "  'Fuente El Saz de Jarama',\n",
       "  'Tres Cantos',\n",
       "  'Arroyomolinos (Madrid)',\n",
       "  'Griñón',\n",
       "  'Paracuellos de Jarama',\n",
       "  'Guadarrama',\n",
       "  'Titulcia',\n",
       "  'Galapagar',\n",
       "  'Collado Mediano',\n",
       "  'Los Molinos',\n",
       "  'San Lorenzo de El Escorial',\n",
       "  'Loeches',\n",
       "  'San Martín de Valdeiglesias',\n",
       "  'Navas del Rey',\n",
       "  'Bustarviejo',\n",
       "  'Manzanares El Real',\n",
       "  'Carabaña',\n",
       "  'Casarrubuelos',\n",
       "  'Cercedilla',\n",
       "  'Fresnedillas de la Oliva',\n",
       "  'Valdemaqueda',\n",
       "  'Miraflores de la Sierra',\n",
       "  'Humanes de Madrid',\n",
       "  'Valdetorres de Jarama',\n",
       "  'San Agustín del Guadalix',\n",
       "  'Camarma de Esteruelas',\n",
       "  'Torres de la Alameda',\n",
       "  'Talamanca de Jarama',\n",
       "  'El Atazar',\n",
       "  'Hoyo de Manzanares',\n",
       "  'El Boalo - Cerceda – Mataelpino',\n",
       "  'El Álamo',\n",
       "  'Valdilecha',\n",
       "  'Valdeolmos-Alalpardo',\n",
       "  'Brunete',\n",
       "  'Redueña',\n",
       "  'Morata de Tajuña',\n",
       "  'Tielmes',\n",
       "  'Gargantilla del Lozoya',\n",
       "  'Guadalix de la Sierra',\n",
       "  'Meco',\n",
       "  'Venturada',\n",
       "  'Quijorna',\n",
       "  'Cenicientos',\n",
       "  'Torrejón de Velasco',\n",
       "  'Navacerrada',\n",
       "  'Ciempozuelos',\n",
       "  'Santa María de la Alameda',\n",
       "  'Robledo de Chavela',\n",
       "  'Orusco de Tajuña',\n",
       "  'Daganzo de Arriba',\n",
       "  'Villamanta',\n",
       "  'Anchuelo',\n",
       "  'Valdaracete',\n",
       "  'Ajalvir',\n",
       "  'Los Santos de la Humosa',\n",
       "  'Villamanrique de Tajo',\n",
       "  'Colmenar de Oreja',\n",
       "  'Villa del Prado',\n",
       "  'Fuentidueña de Tajo',\n",
       "  'Colmenar del Arroyo',\n",
       "  'Belmonte de Tajo',\n",
       "  'Valdelaguna',\n",
       "  'Valdeavero',\n",
       "  'Aldea del Fresno',\n",
       "  'Ribatejada',\n",
       "  'Batres',\n",
       "  'Pezuela de las Torres',\n",
       "  'Colmenarejo',\n",
       "  'Serranillos del Valle',\n",
       "  'Cobeña',\n",
       "  'Soto del Real',\n",
       "  'Cubas de la Sagra',\n",
       "  'El Berrueco',\n",
       "  'Villanueva de Perales',\n",
       "  'Fresno de Torote - Serracines',\n",
       "  'Pozuelo del Rey',\n",
       "  'Pelayos de la Presa',\n",
       "  'El Vellón',\n",
       "  'La Cabrera',\n",
       "  'Nuevo Baztán',\n",
       "  'Perales de Tajuña',\n",
       "  'Villaconejos',\n",
       "  'Villarejo de Salvanés',\n",
       "  'Cadalso de los Vidrios',\n",
       "  'Santorcaz',\n",
       "  'Madarcos',\n",
       "  'Garganta de los Montes',\n",
       "  'Puentes Viejas',\n",
       "  'Torremocha de Jarama',\n",
       "  'Valdemanco',\n",
       "  'Braojos',\n",
       "  'Lozoyuela-navas-sieteiglesias',\n",
       "  'Piñuécar-gandullas',\n",
       "  'Valdepiélagos',\n",
       "  'Valverde de Alcalá',\n",
       "  'Villar del Olmo',\n",
       "  'Villamantilla',\n",
       "  'Horcajo de la Sierra',\n",
       "  'Gascones',\n",
       "  'Zarzalejo',\n",
       "  'Brea de Tajo',\n",
       "  'Estremera',\n",
       "  'Chapinería',\n",
       "  'Torrelaguna',\n",
       "  'Navarredonda',\n",
       "  'Patones',\n",
       "  'Ambite',\n",
       "  'Navalafuente',\n",
       "  'Lozoya',\n",
       "  'Villavieja del Lozoya',\n",
       "  'Canencia',\n",
       "  'Cabanillas de la Sierra',\n",
       "  'Buitrago del Lozoya',\n",
       "  'Fresno de Torote',\n",
       "  'Robregordo',\n",
       "  'Pinilla del Valle',\n",
       "  'Rascafría',\n",
       "  'La Hiruela',\n",
       "  'Montejo de la Sierra'],\n",
       " 168)"
      ]
     },
     "execution_count": 18,
     "metadata": {},
     "output_type": "execute_result"
    }
   ],
   "execution_count": 18
  },
  {
   "cell_type": "markdown",
   "id": "ffe874b946959731",
   "metadata": {},
   "source": [
    "#### Ejercicio 08\n",
    "\n",
    "¿Cuál es la media de precios en la población (columna level5) de \"Arroyomolinos (Madrid)\"? (★★☆)"
   ]
  },
  {
   "cell_type": "code",
   "id": "1454ad464d3f1dfe",
   "metadata": {
    "ExecuteTime": {
     "end_time": "2025-09-30T19:41:07.619885Z",
     "start_time": "2025-09-30T19:41:07.611771Z"
    }
   },
   "source": [
    "# Filtrar solo las filas donde level5 sea \"Arroyomolinos (Madrid)\"\n",
    "arroyomolinos = df.loc[df[\"level5\"] == \"Arroyomolinos (Madrid)\"].copy()\n",
    "\n",
    "# Calcular la media de price\n",
    "media_precios = arroyomolinos[\"price\"].mean()\n",
    "\n",
    "# Retornar con f-string\n",
    "f\"Media de precios en Arroyomolinos (Madrid): {media_precios:.2f} € | Número de propiedades analizadas: {len(arroyomolinos)}\"\n",
    "\n"
   ],
   "outputs": [
    {
     "data": {
      "text/plain": [
       "'Media de precios en Arroyomolinos (Madrid): 297351.23 € | Número de propiedades analizadas: 118'"
      ]
     },
     "execution_count": 19,
     "metadata": {},
     "output_type": "execute_result"
    }
   ],
   "execution_count": 19
  },
  {
   "attachments": {},
   "cell_type": "markdown",
   "id": "actual-edinburgh",
   "metadata": {},
   "source": [
    "#### Ejercicio 09.\n",
    "\n",
    "¿Los precios promedios de \"Valdemorillo\" y \"Galapagar\" son iguales? (★★☆)\n",
    "\n",
    "- Muestra ambos promedios\n",
    "- Escribe en una celda markdown una conclusión sobre ellos"
   ]
  },
  {
   "cell_type": "code",
   "id": "numeric-commerce",
   "metadata": {
    "ExecuteTime": {
     "end_time": "2025-09-30T19:41:12.155393Z",
     "start_time": "2025-09-30T19:41:12.146501Z"
    }
   },
   "source": [
    "media_valdemorillo = df[df[\"level5\"] == \"Valdemorillo\"][\"price\"].mean()\n",
    "media_galapagar = df[df[\"level5\"] == \"Galapagar\"][\"price\"].mean()\n",
    "\n",
    "print(\"Media Valdemorillo:\", media_valdemorillo)\n",
    "print(\"Media Galapagar:\", media_galapagar)\n",
    "\n",
    "if media_valdemorillo == media_galapagar:\n",
    "    print(\"Los precios promedios son iguales\")\n",
    "else:\n",
    "    print(\"Los precios promedios NO son iguales\")"
   ],
   "outputs": [
    {
     "name": "stdout",
     "output_type": "stream",
     "text": [
      "Media Valdemorillo: 371583.0188679245\n",
      "Media Galapagar: 372108.6533333333\n",
      "Los precios promedios NO son iguales\n"
     ]
    }
   ],
   "execution_count": 20
  },
  {
   "attachments": {},
   "cell_type": "markdown",
   "id": "lonely-article",
   "metadata": {},
   "source": [
    "#### Ejercicio 10\n",
    "\n",
    "¿Los promedios de precio por metro cuadrado (precio/m2) de \"Valdemorillo\" y \"Galapagar\" son iguales? (★★☆)\n",
    "\n",
    "> Pista: Crea una nueva columna llamada `pps` (*price per square* o precio por metro cuadrado) y luego analiza los valores.\n",
    "\n",
    "- Muestra ambos promedios de precio por metro cuadrado\n",
    "- Escribe en una celda markdown una conclusión sobre ellos"
   ]
  },
  {
   "cell_type": "code",
   "id": "common-drilling",
   "metadata": {
    "ExecuteTime": {
     "end_time": "2025-09-30T19:43:37.567394Z",
     "start_time": "2025-09-30T19:43:37.546693Z"
    }
   },
   "source": [
    "# Asegurar nombres limpios\n",
    "df.columns = df.columns.str.strip()\n",
    "\n",
    "# Detectar la columna de m²\n",
    "area_cols_posibles = [\"size\", \"m2\", \"area\", \"surface\", \"metros2\", \"sqm\", \"squareMeters\"]\n",
    "area_cols = [c for c in area_cols_posibles if c in df.columns]\n",
    "area_col = area_cols[0]\n",
    "\n",
    "# Asegurar numéricos\n",
    "df[\"price\"] = pd.to_numeric(df[\"price\"], errors=\"coerce\")\n",
    "df[area_col] = pd.to_numeric(df[area_col], errors=\"coerce\")\n",
    "\n",
    "# Crear precio por m²\n",
    "df[\"pps\"] = df[\"price\"] / df[area_col]\n",
    "\n",
    "# Calcular promedios\n",
    "pps_valdemorillo = df.loc[df[\"level5\"] == \"Valdemorillo\", \"pps\"].mean()\n",
    "pps_galapagar   = df.loc[df[\"level5\"] == \"Galapagar\",   \"pps\"].mean()\n",
    "\n",
    "# Mostrar resultados con f-strings\n",
    "resultado1 = f\"Precio medio por m² en Valdemorillo: {pps_valdemorillo:.2f} €/m²\"\n",
    "resultado2 = f\"Precio medio por m² en Galapagar: {pps_galapagar:.2f} €/m²\"\n",
    "resultado3 = f\"¿Los promedios son iguales? {'Sí' if abs(pps_valdemorillo - pps_galapagar) < 1e-9 else 'No'}\"\n",
    "\n",
    "resultado1, resultado2, resultado3\n",
    "\n"
   ],
   "outputs": [
    {
     "data": {
      "text/plain": [
       "('Precio medio por m² en Valdemorillo: 1317.95 €/m²',\n",
       " 'Precio medio por m² en Galapagar: 1606.32 €/m²',\n",
       " '¿Los promedios son iguales? No')"
      ]
     },
     "execution_count": 21,
     "metadata": {},
     "output_type": "execute_result"
    }
   ],
   "execution_count": 21
  },
  {
   "metadata": {},
   "cell_type": "markdown",
   "source": [
    "### Conclusión\n",
    "Se calcularon los promedios de precio por metro cuadrado (pps) para **Valdemorillo** y **Galapagar** a partir de la columna `pps = price / m²`.\n",
    "Por lo que se ve el precio promedio medio por metro cuadrado son levemente superiores en Galapagar que en Valdemorillo, esto se mantiene por la línea del ejercicio anterior, donde vimos una superioridad que puede estar causada por una mejor ubicación o una menor oferta de prioridades lo que hace que a\n"
   ],
   "id": "f02498680eb0284e"
  },
  {
   "attachments": {},
   "cell_type": "markdown",
   "id": "coordinate-sunrise",
   "metadata": {},
   "source": [
    "#### Ejercicio 11\n",
    "\n",
    "¿Cuántas agencia de bienes raíces contiene el dataset? (★★☆)\n",
    "\n",
    "- Muestra el valor obtenido."
   ]
  },
  {
   "cell_type": "code",
   "id": "valid-honolulu",
   "metadata": {
    "ExecuteTime": {
     "end_time": "2025-09-30T20:03:18.619116Z",
     "start_time": "2025-09-30T20:03:18.614137Z"
    }
   },
   "source": [
    "num_agencias = df[\"realEstate_name\"].nunique()\n",
    "\n",
    "f\"Cantidad de agencias de bienes raíces en el dataset: {num_agencias}\"\n"
   ],
   "outputs": [
    {
     "data": {
      "text/plain": [
       "'Cantidad de agencias de bienes raíces en el dataset: 1711'"
      ]
     },
     "execution_count": 32,
     "metadata": {},
     "output_type": "execute_result"
    }
   ],
   "execution_count": 32
  },
  {
   "attachments": {},
   "cell_type": "markdown",
   "id": "binding-ebony",
   "metadata": {},
   "source": [
    "#### Ejercicio 12\n",
    "\n",
    "¿Cuál es la población (columna level5) que contiene la mayor cantidad de casas?(★★☆)\n",
    "\n",
    "- Muestra la población y el número de casas."
   ]
  },
  {
   "cell_type": "code",
   "id": "static-perry",
   "metadata": {
    "ExecuteTime": {
     "end_time": "2025-09-30T20:10:52.024641Z",
     "start_time": "2025-09-30T20:10:52.009184Z"
    }
   },
   "source": [
    "conteo_casas = df[\"level5\"].value_counts()\n",
    "\n",
    "poblacion_max = conteo_casas.idxmax()\n",
    "num_casas_max = conteo_casas.max()\n",
    "\n",
    "f\"La población con más casas es '{poblacion_max}' con {num_casas_max} casas.\"\n"
   ],
   "outputs": [
    {
     "data": {
      "text/plain": [
       "\"La población con más casas es ' Madrid Capital' con 6237 casas.\""
      ]
     },
     "execution_count": 40,
     "metadata": {},
     "output_type": "execute_result"
    }
   ],
   "execution_count": 40
  },
  {
   "cell_type": "markdown",
   "id": "f6891b36e4d016c4",
   "metadata": {},
   "source": [
    "---\n",
    "\n",
    "## Trabajando con un subconjunto del DataFrame"
   ]
  },
  {
   "attachments": {},
   "cell_type": "markdown",
   "id": "entire-classification",
   "metadata": {},
   "source": [
    "#### Ejercicio 13\n",
    "\n",
    "Ahora vamos a trabajar con el \"cinturón sur\" de Madrid.\n",
    "\n",
    "Haz un subconjunto del DataFrame original que contenga las siguientes poblaciones (columna level5): \"Fuenlabrada\", \"Leganés\", \"Getafe\", \"Alcorcón\" (★★☆)\n",
    "\n",
    "> Pista: Filtra el DataFrame original usando la columna `level5` y la función `isin`."
   ]
  },
  {
   "cell_type": "code",
   "id": "binary-input",
   "metadata": {},
   "source": [
    "# TODO"
   ],
   "outputs": [],
   "execution_count": null
  },
  {
   "attachments": {},
   "cell_type": "markdown",
   "id": "speaking-diamond",
   "metadata": {},
   "source": [
    "#### Ejercicio 14\n",
    "\n",
    "Calcula la media y la varianza de muestra para las siguientes variables: precio, habitaciones, superficie y baños (★★★)\n",
    "\n",
    "> Debes usar el subset obtenido en la pregunta 13\n",
    "\n",
    "- Crea y visualiza un diccionario con todos los valores"
   ]
  },
  {
   "cell_type": "code",
   "id": "random-feeling",
   "metadata": {},
   "source": [
    "# TODO"
   ],
   "outputs": [],
   "execution_count": null
  },
  {
   "attachments": {},
   "cell_type": "markdown",
   "id": "revolutionary-matrix",
   "metadata": {},
   "source": [
    "#### Ejercicio 15\n",
    "\n",
    "¿Cuál es la casa más cara de cada población del cinturón sur de Madríd? (★★☆)\n",
    "\n",
    "> Debes usar el subset obtenido en la pregunta 13\n",
    "\n",
    "- Genera un DataFrame con esta información\n",
    "- Muestra tanto la dirección como el precio de la casa seleccionada de cada población.\n",
    "- Genera conclusiones en una celda markdown"
   ]
  },
  {
   "cell_type": "code",
   "id": "fifteen-browse",
   "metadata": {},
   "source": [
    "# TODO"
   ],
   "outputs": [],
   "execution_count": null
  },
  {
   "attachments": {},
   "cell_type": "markdown",
   "id": "patent-jonathan",
   "metadata": {},
   "source": [
    "#### Ejercicio 16\n",
    "\n",
    "¿Qué puedes decir acerca del precio por metro cuadrado (precio/m2) entre los municipios de 'Getafe' y 'Alcorcón'? (★★☆)\n",
    "\n",
    "> Debes usar el subset obtenido en la pregunta 13\n",
    ">\n",
    "> Pista: Crea una nueva columna llamada `pps` (price per square en inglés) y luego analiza los valores"
   ]
  },
  {
   "cell_type": "code",
   "id": "initial-liverpool",
   "metadata": {},
   "source": [
    "# TODO"
   ],
   "outputs": [],
   "execution_count": null
  },
  {
   "cell_type": "markdown",
   "id": "77f4fb6b000f9e0b",
   "metadata": {},
   "source": [
    "## Conclusiones"
   ]
  },
  {
   "cell_type": "markdown",
   "id": "d68570bb7b80a83e",
   "metadata": {},
   "source": [
    "#### Ejercicio 17\n",
    "\n",
    "Escribe aquí tus conclusiones acerca de este proyecto"
   ]
  }
 ],
 "metadata": {
  "kernelspec": {
   "display_name": "Python 3",
   "language": "python",
   "name": "python3"
  },
  "language_info": {
   "codemirror_mode": {
    "name": "ipython",
    "version": 3
   },
   "file_extension": ".py",
   "mimetype": "text/x-python",
   "name": "python",
   "nbconvert_exporter": "python",
   "pygments_lexer": "ipython3",
   "version": "3.11.3"
  }
 },
 "nbformat": 4,
 "nbformat_minor": 5
}
